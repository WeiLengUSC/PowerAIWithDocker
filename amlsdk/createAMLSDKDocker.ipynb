{
 "cells": [
  {
   "cell_type": "markdown",
   "metadata": {},
   "source": [
    "### Create AML SDK docker file and build and test image"
   ]
  },
  {
   "cell_type": "markdown",
   "metadata": {},
   "source": [
    "To run this notebook, start it via a plain Jupyter notebook session\n",
    "\n",
    "* login (ssh) into the VM:\n",
    "```\n",
    "loginvm0011@ghiordanXRgpuvm:/datadrive01/prj/regularR_Realtime$ jupyter notebook --notebook-dir=$(pwd) --ip='*' --port=9000 --no-browser --allow-root\n",
    "```\n",
    "\n",
    "\n",
    "\n",
    "  \n",
    "   \n",
    "* then go to:    \n",
    "http://ghiordanxrgpuvm.eastus2.cloudapp.azure.com:9000/ \n",
    "  \n",
    "  \n",
    "Note: continuumio/miniconda3:4.5.4 is the latest tag as of 9/7/2018"
   ]
  },
  {
   "cell_type": "code",
   "execution_count": 21,
   "metadata": {
    "collapsed": true
   },
   "outputs": [],
   "source": [
    "# Allow multiple displays per cell\n",
    "from IPython.core.interactiveshell import InteractiveShell\n",
    "InteractiveShell.ast_node_interactivity = \"all\" "
   ]
  },
  {
   "cell_type": "code",
   "execution_count": 22,
   "metadata": {
    "nbpresent": {
     "id": "4ccb1b65-3d22-42d6-900b-dfcf80c59f9a"
    }
   },
   "outputs": [
    {
     "name": "stdout",
     "output_type": "stream",
     "text": [
      "The dotenv extension is already loaded. To reload it, use:\n",
      "  %reload_ext dotenv\n"
     ]
    }
   ],
   "source": [
    "%load_ext dotenv\n",
    "# import dotenv\n",
    "# print (dir(dotenv))"
   ]
  },
  {
   "cell_type": "code",
   "execution_count": 23,
   "metadata": {
    "nbpresent": {
     "id": "799f7d9a-13d5-462d-982b-cdaf17bcbb25"
    }
   },
   "outputs": [
    {
     "name": "stdout",
     "output_type": "stream",
     "text": [
      "Overwriting .env\n"
     ]
    }
   ],
   "source": [
    "%%writefile .env\n",
    "\n",
    "# Your docker login and image repository name\n",
    "docker_login = 'georgedockeraccount'\n",
    "image_tag = \"/aml-sdk_docker\"\n",
    "image_version = '1.0.0'"
   ]
  },
  {
   "cell_type": "code",
   "execution_count": 24,
   "metadata": {
    "collapsed": true,
    "nbpresent": {
     "id": "9d0e3def-da72-4a6f-934a-6aa251a2be7a"
    }
   },
   "outputs": [],
   "source": [
    "%dotenv\n",
    "docker_file_location = 'docker'\n",
    "conda_dependency_file = 'aml_sdk_conda_dep_file.yml'\n",
    "\n",
    "import os\n",
    "docker_file_name = 'dockerfile'+ '_' + os.getenv('image_version')"
   ]
  },
  {
   "cell_type": "code",
   "execution_count": 25,
   "metadata": {
    "nbpresent": {
     "id": "5df01165-3fcc-431c-89b0-a934207b1fa7"
    }
   },
   "outputs": [
    {
     "data": {
      "text/plain": [
       "'/datadrive01/prj/PowerAIWithDocker/amlsdk/docker'"
      ]
     },
     "execution_count": 25,
     "metadata": {},
     "output_type": "execute_result"
    },
    {
     "data": {
      "text/plain": [
       "'/datadrive01/prj/PowerAIWithDocker/amlsdk/docker/dockerfile_1.0.0'"
      ]
     },
     "execution_count": 25,
     "metadata": {},
     "output_type": "execute_result"
    },
    {
     "data": {
      "text/plain": [
       "'/datadrive01/prj/PowerAIWithDocker/amlsdk/docker/aml_sdk_conda_dep_file.yml'"
      ]
     },
     "execution_count": 25,
     "metadata": {},
     "output_type": "execute_result"
    },
    {
     "name": "stdout",
     "output_type": "stream",
     "text": [
      "total 0\r\n"
     ]
    }
   ],
   "source": [
    "local_dir = !pwd\n",
    "docker_file_dir = os.path.join(*([local_dir.s, docker_file_location]))\n",
    "docker_file_dir\n",
    " \n",
    "docker_file_path = os.path.join(*([docker_file_dir]+[docker_file_name]))\n",
    "docker_file_path\n",
    "\n",
    "conda_dependency_file_path = os.path.join(*([docker_file_dir]+[conda_dependency_file]))\n",
    "conda_dependency_file_path\n",
    "\n",
    "!mkdir -p {docker_file_dir}\n",
    "! chmod -R ugo=rwx $docker_file_dir\n",
    "!rm -rf $docker_file_dir/*\n",
    "!ls -l $docker_file_dir"
   ]
  },
  {
   "cell_type": "code",
   "execution_count": 26,
   "metadata": {
    "nbpresent": {
     "id": "5cd2704f-7ad0-445d-a0f1-ffd318e6ddca"
    }
   },
   "outputs": [
    {
     "name": "stdout",
     "output_type": "stream",
     "text": [
      "Writing /datadrive01/prj/PowerAIWithDocker/amlsdk/docker/aml_sdk_conda_dep_file.yml\n"
     ]
    }
   ],
   "source": [
    "%%writefile $conda_dependency_file_path\n",
    "name: aml_sdk_conda_env02\n",
    "    \n",
    "channels:\n",
    "  - anaconda\n",
    "dependencies:\n",
    "  - python=3.6 \n",
    "  - numpy\n",
    "  - cython\n",
    "  - notebook=5.6.0 \n",
    "  - nb_conda\n",
    "  - pip:\n",
    "    - python-dotenv\n",
    "#  - azureml-sdk[notebooks,automl]"
   ]
  },
  {
   "cell_type": "code",
   "execution_count": 27,
   "metadata": {
    "collapsed": true,
    "nbpresent": {
     "id": "3c379867-7323-40d4-b711-323f37a006a7"
    }
   },
   "outputs": [],
   "source": [
    "# %%writefile $docker_file_path \n",
    "\n",
    "# FROM debian:latest\n",
    "# MAINTAINER George Iordanescu <ghiordan@microsoft.com>\n",
    "# # https://hub.docker.com/r/continuumio/miniconda3/~/dockerfile/\n",
    "\n",
    "# ENV LANG=C.UTF-8 LC_ALL=C.UTF-8\n",
    "# ENV PATH /opt/conda/bin:$PATH\n",
    "\n",
    "# RUN apt-get update --fix-missing && apt-get install -y --no-install-recommends \\\n",
    "#     wget bzip2 ca-certificates curl git && \\\n",
    "#     apt-get clean && \\\n",
    "#     rm -rf /var/lib/apt/lists/*\n",
    "    \n",
    "# # # Install Azure CLI\n",
    "# # RUN echo \"deb [arch=amd64] https://packages.microsoft.com/repos/azure-cli/ xenial main\" | \\\n",
    "# #     tee /etc/apt/sources.list.d/azure-cli.list && \\\n",
    "# #     curl -L https://packages.microsoft.com/keys/microsoft.asc | apt-key add - && \\\n",
    "# #     apt-get update && \\\n",
    "# #     apt-get install -y --no-install-recommends \\\n",
    "# #     azure-cli\n",
    "\n",
    "\n",
    "# ADD aml_sdk_conda_dep_file.yml /tmp/aml_sdk_conda_dep_file.yml\n",
    "\n",
    "# ENV CONDA_ENV_NAME aml-sdk-conda-env\n",
    "\n",
    "# # RUN curl -o ~/miniconda.sh -O  https://repo.continuum.io/miniconda/Miniconda3-latest-Linux-x86_64.sh  && \\\n",
    "# RUN wget --quiet https://repo.anaconda.com/miniconda/Miniconda3-4.5.11-Linux-x86_64.sh -O ~/miniconda.sh && \\\n",
    "#     chmod +x ~/miniconda.sh && \\\n",
    "#     ~/miniconda.sh -b -p /opt/conda && \\\n",
    "#     rm ~/miniconda.sh \n",
    "    \n",
    "# RUN  conda env create -q --name $CONDA_ENV_NAME -f /tmp/aml_sdk_conda_dep_file.yml && \\\n",
    "#     conda clean --yes --all\n",
    "# ENV PATH /opt/conda/envs/$CONDA_ENV_NAME/bin:$PATH\n",
    "\n",
    "# RUN [ \"/bin/bash\",\"-c\",\"source activate aml-sdk-conda-env && pip install azureml-sdk[notebooks]\"]    \n",
    "# # install and enable experiment widget\n",
    "# # https://docs.microsoft.com/en-us/azure/machine-learning/service/how-to-configure-environment\n",
    "# RUN [\"/bin/bash\",\"-c\",\"source activate aml-sdk-conda-env && \\\n",
    "#                     jupyter nbextension install --py --user azureml.train.widgets  && \\\n",
    "#                     jupyter nbextension enable --py --user azureml.train.widgets\"]\n",
    "\n",
    "# WORKDIR /workspace\n",
    "\n",
    "# CMD [ \"/bin/bash\" ]"
   ]
  },
  {
   "cell_type": "code",
   "execution_count": 28,
   "metadata": {
    "nbpresent": {
     "id": "2168b1a2-9e5a-4812-be38-fd98a42a568f"
    }
   },
   "outputs": [
    {
     "name": "stdout",
     "output_type": "stream",
     "text": [
      "Writing /datadrive01/prj/PowerAIWithDocker/amlsdk/docker/dockerfile_1.0.0\n"
     ]
    }
   ],
   "source": [
    "%%writefile $docker_file_path \n",
    "\n",
    "FROM continuumio/miniconda3:4.5.11\n",
    "MAINTAINER George Iordanescu <ghiordan@microsoft.com>\n",
    "\n",
    "RUN apt-get update --fix-missing && apt-get install -y --no-install-recommends \\\n",
    "    wget curl  \\\n",
    "    git && \\ \n",
    "    apt-get clean && \\\n",
    "    rm -rf /var/lib/apt/lists/*\n",
    "    \n",
    "ADD aml_sdk_conda_dep_file.yml /tmp/aml_sdk_conda_dep_file.yml\n",
    "\n",
    "ENV CONDA_ENV_NAME aml-sdk-conda-env\n",
    "\n",
    "RUN  conda env create -q --name $CONDA_ENV_NAME -f /tmp/aml_sdk_conda_dep_file.yml && \\\n",
    "    conda clean --yes --all\n",
    "ENV PATH /opt/conda/envs/$CONDA_ENV_NAME/bin:$PATH\n",
    "\n",
    "#unclear if I can run pip from $CONDA_ENV_NAME env, but     \n",
    "RUN [ \"/bin/bash\",\"-c\",\"source activate aml-sdk-conda-env && pip install azureml-sdk[notebooks]\"] \n",
    "\n",
    "# install and enable experiment widget\n",
    "# https://docs.microsoft.com/en-us/azure/machine-learning/service/how-to-configure-environment\n",
    "RUN [ \"/bin/bash\",\"-c\",\"source activate aml-sdk-conda-env && \\\n",
    "                        jupyter nbextension install --py --user azureml.train.widgets  && \\\n",
    "                        jupyter nbextension enable --py --user azureml.train.widgets\"]\n",
    "\n",
    "# RUN [ \"/bin/bash\",\"-c\",\"source activate aml-sdk-conda-env && \\\n",
    "#                         mkdir -p /workspace\"]\n",
    "\n",
    "CMD [ \"/bin/bash\",\"-c\",\"source activate aml-sdk-conda-env\"]"
   ]
  },
  {
   "cell_type": "code",
   "execution_count": 29,
   "metadata": {
    "nbpresent": {
     "id": "527cb6fe-fd7b-48fd-8c28-2e59ced35adc"
    }
   },
   "outputs": [
    {
     "data": {
      "text/plain": [
       "'/datadrive01/prj/PowerAIWithDocker/amlsdk/docker/dockerfile_1.0.0'"
      ]
     },
     "execution_count": 29,
     "metadata": {},
     "output_type": "execute_result"
    },
    {
     "data": {
      "text/plain": [
       "'georgedockeraccount/aml-sdk_docker:1.0.0'"
      ]
     },
     "execution_count": 29,
     "metadata": {},
     "output_type": "execute_result"
    },
    {
     "data": {
      "text/plain": [
       "'/datadrive01/prj/PowerAIWithDocker/amlsdk/docker'"
      ]
     },
     "execution_count": 29,
     "metadata": {},
     "output_type": "execute_result"
    },
    {
     "name": "stdout",
     "output_type": "stream",
     "text": [
      "total 8\r\n",
      "-rw-rw-r-- 1 loginvm0011 loginvm0011  201 Nov 10 00:58 aml_sdk_conda_dep_file.yml\r\n",
      "-rw-rw-r-- 1 loginvm0011 loginvm0011 1244 Nov 10 00:58 dockerfile_1.0.0\r\n"
     ]
    }
   ],
   "source": [
    "%dotenv\n",
    "\n",
    "#add docker image version info only if image_version has been set to a non-empty string, otherwise let docker increment it\n",
    "image_version_string = os.getenv('image_version')\n",
    "if image_version_string!=\"\":\n",
    "    image_version_string = ':'  + image_version_string\n",
    "    \n",
    "docker_image_name = os.getenv('docker_login') + os.getenv('image_tag') + image_version_string\n",
    "\n",
    "\n",
    "docker_file_path\n",
    "docker_image_name\n",
    "docker_file_dir\n",
    "\n",
    "working_path = docker_file_dir\n",
    "! ls -l $working_path\n"
   ]
  },
  {
   "cell_type": "code",
   "execution_count": 30,
   "metadata": {
    "nbpresent": {
     "id": "fba50410-e46c-4645-a1cc-64c390125adf"
    }
   },
   "outputs": [
    {
     "name": "stdout",
     "output_type": "stream",
     "text": [
      "docker build -t georgedockeraccount/aml-sdk_docker:1.0.0 -f /datadrive01/prj/PowerAIWithDocker/amlsdk/docker/dockerfile_1.0.0 /datadrive01/prj/PowerAIWithDocker/amlsdk/docker --no-cache\n",
      "Sending build context to Docker daemon  4.096kB\n",
      "Step 1/10 : FROM continuumio/miniconda3:4.5.11\n",
      " ---> d3c252f8727b\n",
      "Step 2/10 : MAINTAINER George Iordanescu <ghiordan@microsoft.com>\n",
      " ---> Running in f22f96ca0e06\n",
      " ---> 97ca972a9c78\n",
      "Removing intermediate container f22f96ca0e06\n",
      "Step 3/10 : RUN apt-get update --fix-missing && apt-get install -y --no-install-recommends     wget curl      git &&     apt-get clean &&     rm -rf /var/lib/apt/lists/*\n",
      " ---> Running in 811b4a2fa750\n",
      "Ign:1 http://deb.debian.org/debian stretch InRelease\n",
      "Get:2 http://security.debian.org/debian-security stretch/updates InRelease [94.3 kB]\n",
      "Get:3 http://deb.debian.org/debian stretch-updates InRelease [91.0 kB]\n",
      "Get:4 http://deb.debian.org/debian stretch Release [118 kB]\n",
      "Get:5 http://security.debian.org/debian-security stretch/updates/main amd64 Packages [454 kB]\n",
      "Get:6 http://deb.debian.org/debian stretch Release.gpg [2434 B]\n",
      "Get:7 http://deb.debian.org/debian stretch-updates/main amd64 Packages [5152 B]\n",
      "Get:8 http://deb.debian.org/debian stretch/main amd64 Packages [7099 kB]\n",
      "Fetched 7864 kB in 1s (5446 kB/s)\n",
      "Reading package lists...\n",
      "Reading package lists...\n",
      "Building dependency tree...\n",
      "Reading state information...\n",
      "wget is already the newest version (1.18-5+deb9u2).\n",
      "Suggested packages:\n",
      "  gettext-base git-daemon-run | git-daemon-sysvinit git-doc git-el git-email\n",
      "  git-gui gitk gitweb git-arch git-cvs git-mediawiki git-svn\n",
      "The following packages will be upgraded:\n",
      "  curl git libcurl3\n",
      "3 upgraded, 0 newly installed, 0 to remove and 3 not upgraded.\n",
      "Need to get 4686 kB of archives.\n",
      "After this operation, 13.3 kB of additional disk space will be used.\n",
      "Get:1 http://security.debian.org/debian-security stretch/updates/main amd64 git amd64 1:2.11.0-3+deb9u4 [4167 kB]\n",
      "Get:2 http://security.debian.org/debian-security stretch/updates/main amd64 curl amd64 7.52.1-5+deb9u8 [228 kB]\n",
      "Get:3 http://security.debian.org/debian-security stretch/updates/main amd64 libcurl3 amd64 7.52.1-5+deb9u8 [292 kB]\n",
      "\u001b[91mdebconf: delaying package configuration, since apt-utils is not installed\n",
      "\u001b[0mFetched 4686 kB in 0s (19.3 MB/s)\n",
      "(Reading database ... 10360 files and directories currently installed.)\n",
      "Preparing to unpack .../git_1%3a2.11.0-3+deb9u4_amd64.deb ...\n",
      "Unpacking git (1:2.11.0-3+deb9u4) over (1:2.11.0-3+deb9u3) ...\n",
      "Preparing to unpack .../curl_7.52.1-5+deb9u8_amd64.deb ...\n",
      "Unpacking curl (7.52.1-5+deb9u8) over (7.52.1-5+deb9u7) ...\n",
      "Preparing to unpack .../libcurl3_7.52.1-5+deb9u8_amd64.deb ...\n",
      "Unpacking libcurl3:amd64 (7.52.1-5+deb9u8) over (7.52.1-5+deb9u7) ...\n",
      "Setting up libcurl3:amd64 (7.52.1-5+deb9u8) ...\n",
      "Processing triggers for libc-bin (2.24-11+deb9u3) ...\n",
      "Setting up git (1:2.11.0-3+deb9u4) ...\n",
      "Setting up curl (7.52.1-5+deb9u8) ...\n",
      " ---> f53bf0b7898a\n",
      "Removing intermediate container 811b4a2fa750\n",
      "Step 4/10 : ADD aml_sdk_conda_dep_file.yml /tmp/aml_sdk_conda_dep_file.yml\n",
      " ---> aba89c12ceb4\n",
      "Step 5/10 : ENV CONDA_ENV_NAME aml-sdk-conda-env\n",
      " ---> Running in d385426a4ec0\n",
      " ---> f6374eacc45f\n",
      "Removing intermediate container d385426a4ec0\n",
      "Step 6/10 : RUN conda env create -q --name $CONDA_ENV_NAME -f /tmp/aml_sdk_conda_dep_file.yml &&     conda clean --yes --all\n",
      " ---> Running in a8416485bf62\n",
      "Solving environment: ...working... done\n",
      "Preparing transaction: ...working... done\n",
      "Verifying transaction: ...working... done\n",
      "Executing transaction: ...working... + /opt/conda/envs/aml-sdk-conda-env/bin/python -m nb_conda_kernels.install --enable\n",
      "Enabling nb_conda_kernels...\n",
      "Status: enabled\n",
      "\n",
      "+ /opt/conda/envs/aml-sdk-conda-env/bin/jupyter-nbextension enable nb_conda --py --sys-prefix\n",
      "Enabling notebook extension nb_conda/main...\n",
      "      - Validating: \u001b[32mOK\u001b[0m\n",
      "Enabling tree extension nb_conda/tree...\n",
      "      - Validating: \u001b[32mOK\u001b[0m\n",
      "+ /opt/conda/envs/aml-sdk-conda-env/bin/jupyter-serverextension enable nb_conda --py --sys-prefix\n",
      "Enabling: nb_conda\n",
      "- Writing config: /opt/conda/envs/aml-sdk-conda-env/etc/jupyter\n",
      "    - Validating...\n",
      "      nb_conda 2.2.1 \u001b[32mOK\u001b[0m\n",
      "\n",
      "done\n",
      "Collecting python-dotenv (from -r /tmp/condaenv.2v9683_p.requirements.txt (line 1))\n",
      "  Downloading https://files.pythonhosted.org/packages/24/3d/977140bd94bfb160f98a5c02fdfbb72325130f12a325cf993182956e9d0e/python_dotenv-0.9.1-py2.py3-none-any.whl\n",
      "Installing collected packages: python-dotenv\n",
      "Successfully installed python-dotenv-0.9.1\n",
      "Cache location: /opt/conda/pkgs\n",
      "Will remove the following tarballs:\n",
      "\n",
      "/opt/conda/pkgs\n",
      "---------------\n",
      "pygments-2.2.0-py36_0.tar.bz2                1.3 MB\n",
      "ipython_genutils-0.2.0-py36_0.tar.bz2         39 KB\n",
      "tk-8.6.8-hbc83047_0.tar.bz2                  3.1 MB\n",
      "backcall-0.1.0-py36_0.tar.bz2                 19 KB\n",
      "mkl_fft-1.0.6-py36h7dd41cf_0.tar.bz2         150 KB\n",
      "nbconvert-5.3.1-py36_0.tar.bz2               406 KB\n",
      "libedit-3.1.20170329-h6b74fdf_2.tar.bz2      172 KB\n",
      "pip-18.1-py36_0.tar.bz2                      1.8 MB\n",
      "terminado-0.8.1-py36_1.tar.bz2                21 KB\n",
      "gmp-6.1.2-hb3b607b_0.tar.bz2                 744 KB\n",
      "notebook-5.6.0-py36_0.tar.bz2                7.4 MB\n",
      "zlib-1.2.11-hfbfcf68_1.tar.bz2               101 KB\n",
      "pickleshare-0.7.5-py36_0.tar.bz2              13 KB\n",
      "libgcc-ng-8.2.0-hdf63c60_1.tar.bz2           7.6 MB\n",
      "tornado-5.1.1-py36h7b6447c_0.tar.bz2         663 KB\n",
      "prompt_toolkit-2.0.7-py36_0.tar.bz2          482 KB\n",
      "xz-5.2.4-h14c3975_4.tar.bz2                  366 KB\n",
      "certifi-2018.10.15-py36_0.tar.bz2            139 KB\n",
      "decorator-4.3.0-py36_0.tar.bz2                15 KB\n",
      "wcwidth-0.1.7-py36_0.tar.bz2                  25 KB\n",
      "mistune-0.8.4-py36h7b6447c_0.tar.bz2          54 KB\n",
      "six-1.11.0-py36_1.tar.bz2                     21 KB\n",
      "jupyter_core-4.4.0-py36_0.tar.bz2             63 KB\n",
      "cython-0.29-py36he6710b0_0.tar.bz2           2.3 MB\n",
      "ipykernel-5.1.0-py36h39e3cac_0.tar.bz2       156 KB\n",
      "blas-1.0-mkl.tar.bz2                           6 KB\n",
      "jupyter_client-5.2.3-py36_0.tar.bz2          124 KB\n",
      "pexpect-4.6.0-py36_0.tar.bz2                  77 KB\n",
      "jinja2-2.10-py36_0.tar.bz2                   184 KB\n",
      "webencodings-0.5.1-py36_1.tar.bz2             19 KB\n",
      "traitlets-4.3.2-py36_0.tar.bz2               133 KB\n",
      "entrypoints-0.2.3-py36_2.tar.bz2               9 KB\n",
      "libffi-3.2.1-h4deb6c0_3.tar.bz2               43 KB\n",
      "parso-0.3.1-py36_0.tar.bz2                   114 KB\n",
      "pandocfilters-1.4.2-py36_1.tar.bz2            13 KB\n",
      "readline-7.0-h7b6447c_5.tar.bz2              392 KB\n",
      "zeromq-4.2.5-hf484d3e_1.tar.bz2              567 KB\n",
      "sqlite-3.25.2-h7b6447c_0.tar.bz2             1.9 MB\n",
      "nbformat-4.4.0-py36_0.tar.bz2                141 KB\n",
      "ncurses-6.1-hf484d3e_0.tar.bz2               943 KB\n",
      "intel-openmp-2019.0-118.tar.bz2              721 KB\n",
      "jsonschema-2.6.0-py36_0.tar.bz2               62 KB\n",
      "numpy-base-1.15.3-py36h81de0dd_0.tar.bz2     4.2 MB\n",
      "prometheus_client-0.4.2-py36_0.tar.bz2        64 KB\n",
      "pyzmq-17.1.2-py36h14c3975_0.tar.bz2          454 KB\n",
      "libgfortran-ng-7.3.0-hdf63c60_0.tar.bz2      1.3 MB\n",
      "mkl-2019.0-118.tar.bz2                     204.4 MB\n",
      "wheel-0.32.2-py36_0.tar.bz2                   35 KB\n",
      "jedi-0.13.1-py36_0.tar.bz2                   229 KB\n",
      "nb_conda-2.2.1-py36_0.tar.bz2                 33 KB\n",
      "libsodium-1.0.16-h1bed415_0.tar.bz2          302 KB\n",
      "nb_conda_kernels-2.2.0-py36_0.tar.bz2         32 KB\n",
      "setuptools-40.5.0-py36_0.tar.bz2             610 KB\n",
      "openssl-1.1.1-h7b6447c_0.tar.bz2             5.0 MB\n",
      "send2trash-1.5.0-py36_0.tar.bz2               16 KB\n",
      "testpath-0.4.2-py36_0.tar.bz2                 91 KB\n",
      "ptyprocess-0.6.0-py36_0.tar.bz2               23 KB\n",
      "pandoc-2.2.3.2-0.tar.bz2                    20.8 MB\n",
      "ipython-7.1.1-py36h39e3cac_0.tar.bz2         1.1 MB\n",
      "python-dateutil-2.7.5-py36_0.tar.bz2         275 KB\n",
      "python-3.6.7-h0371630_0.tar.bz2             34.3 MB\n",
      "markupsafe-1.0-py36h14c3975_1.tar.bz2         24 KB\n",
      "ca-certificates-2018.03.07-0.tar.bz2         124 KB\n",
      "mkl_random-1.0.1-py36h4414c95_1.tar.bz2      373 KB\n",
      "numpy-1.15.3-py36h1d66e8a_0.tar.bz2           36 KB\n",
      "bleach-3.0.2-py36_0.tar.bz2                  220 KB\n",
      "libstdcxx-ng-8.2.0-hdf63c60_1.tar.bz2        2.9 MB\n",
      "\n",
      "---------------------------------------------------\n",
      "Total:                                     309.3 MB\n",
      "\n",
      "Removed pygments-2.2.0-py36_0.tar.bz2\n",
      "Removed ipython_genutils-0.2.0-py36_0.tar.bz2\n",
      "Removed tk-8.6.8-hbc83047_0.tar.bz2\n",
      "Removed backcall-0.1.0-py36_0.tar.bz2\n",
      "Removed mkl_fft-1.0.6-py36h7dd41cf_0.tar.bz2\n",
      "Removed nbconvert-5.3.1-py36_0.tar.bz2\n",
      "Removed libedit-3.1.20170329-h6b74fdf_2.tar.bz2\n",
      "Removed pip-18.1-py36_0.tar.bz2\n",
      "Removed terminado-0.8.1-py36_1.tar.bz2\n",
      "Removed gmp-6.1.2-hb3b607b_0.tar.bz2\n",
      "Removed notebook-5.6.0-py36_0.tar.bz2\n",
      "Removed zlib-1.2.11-hfbfcf68_1.tar.bz2\n",
      "Removed pickleshare-0.7.5-py36_0.tar.bz2\n",
      "Removed libgcc-ng-8.2.0-hdf63c60_1.tar.bz2\n",
      "Removed tornado-5.1.1-py36h7b6447c_0.tar.bz2\n",
      "Removed prompt_toolkit-2.0.7-py36_0.tar.bz2\n",
      "Removed xz-5.2.4-h14c3975_4.tar.bz2\n",
      "Removed certifi-2018.10.15-py36_0.tar.bz2\n",
      "Removed decorator-4.3.0-py36_0.tar.bz2\n",
      "Removed wcwidth-0.1.7-py36_0.tar.bz2\n",
      "Removed mistune-0.8.4-py36h7b6447c_0.tar.bz2\n",
      "Removed six-1.11.0-py36_1.tar.bz2\n",
      "Removed jupyter_core-4.4.0-py36_0.tar.bz2\n",
      "Removed cython-0.29-py36he6710b0_0.tar.bz2\n",
      "Removed ipykernel-5.1.0-py36h39e3cac_0.tar.bz2\n",
      "Removed blas-1.0-mkl.tar.bz2\n",
      "Removed jupyter_client-5.2.3-py36_0.tar.bz2\n",
      "Removed pexpect-4.6.0-py36_0.tar.bz2\n",
      "Removed jinja2-2.10-py36_0.tar.bz2\n",
      "Removed webencodings-0.5.1-py36_1.tar.bz2\n",
      "Removed traitlets-4.3.2-py36_0.tar.bz2\n",
      "Removed entrypoints-0.2.3-py36_2.tar.bz2\n",
      "Removed libffi-3.2.1-h4deb6c0_3.tar.bz2\n",
      "Removed parso-0.3.1-py36_0.tar.bz2\n",
      "Removed pandocfilters-1.4.2-py36_1.tar.bz2\n",
      "Removed readline-7.0-h7b6447c_5.tar.bz2\n",
      "Removed zeromq-4.2.5-hf484d3e_1.tar.bz2\n",
      "Removed sqlite-3.25.2-h7b6447c_0.tar.bz2\n",
      "Removed nbformat-4.4.0-py36_0.tar.bz2\n",
      "Removed ncurses-6.1-hf484d3e_0.tar.bz2\n",
      "Removed intel-openmp-2019.0-118.tar.bz2\n",
      "Removed jsonschema-2.6.0-py36_0.tar.bz2\n",
      "Removed numpy-base-1.15.3-py36h81de0dd_0.tar.bz2\n",
      "Removed prometheus_client-0.4.2-py36_0.tar.bz2\n",
      "Removed pyzmq-17.1.2-py36h14c3975_0.tar.bz2\n",
      "Removed libgfortran-ng-7.3.0-hdf63c60_0.tar.bz2\n",
      "Removed mkl-2019.0-118.tar.bz2\n",
      "Removed wheel-0.32.2-py36_0.tar.bz2\n",
      "Removed jedi-0.13.1-py36_0.tar.bz2\n",
      "Removed nb_conda-2.2.1-py36_0.tar.bz2\n",
      "Removed libsodium-1.0.16-h1bed415_0.tar.bz2\n",
      "Removed nb_conda_kernels-2.2.0-py36_0.tar.bz2\n",
      "Removed setuptools-40.5.0-py36_0.tar.bz2\n",
      "Removed openssl-1.1.1-h7b6447c_0.tar.bz2\n",
      "Removed send2trash-1.5.0-py36_0.tar.bz2\n",
      "Removed testpath-0.4.2-py36_0.tar.bz2\n",
      "Removed ptyprocess-0.6.0-py36_0.tar.bz2\n",
      "Removed pandoc-2.2.3.2-0.tar.bz2\n",
      "Removed ipython-7.1.1-py36h39e3cac_0.tar.bz2\n",
      "Removed python-dateutil-2.7.5-py36_0.tar.bz2\n",
      "Removed python-3.6.7-h0371630_0.tar.bz2\n",
      "Removed markupsafe-1.0-py36h14c3975_1.tar.bz2\n",
      "Removed ca-certificates-2018.03.07-0.tar.bz2\n",
      "Removed mkl_random-1.0.1-py36h4414c95_1.tar.bz2\n",
      "Removed numpy-1.15.3-py36h1d66e8a_0.tar.bz2\n",
      "Removed bleach-3.0.2-py36_0.tar.bz2\n",
      "Removed libstdcxx-ng-8.2.0-hdf63c60_1.tar.bz2\n",
      "Cache location: /opt/conda/pkgs\n",
      "Will remove the following packages:\n",
      "/opt/conda/pkgs\n",
      "---------------\n",
      "\n",
      "blas-1.0-mkl                                  15 KB\n",
      "numpy-1.15.3-py36h1d66e8a_0                  207 KB\n",
      "\n",
      "---------------------------------------------------\n",
      "Total:                                       222 KB\n",
      "\n",
      "removing blas-1.0-mkl\n",
      "removing numpy-1.15.3-py36h1d66e8a_0\n",
      "source cache (/opt/conda/conda-bld/src_cache)\n",
      "Size:                                           0 B\n",
      "\n",
      "git cache (/opt/conda/conda-bld/git_cache)\n",
      "Size:                                           0 B\n",
      "\n",
      "hg cache (/opt/conda/conda-bld/hg_cache)\n",
      "Size:                                           0 B\n",
      "\n",
      "svn cache (/opt/conda/conda-bld/svn_cache)\n",
      "Size:                                           0 B\n",
      "\n",
      "Total:                                          0 B\n",
      "Removing /opt/conda/conda-bld/src_cache\n",
      "Removing /opt/conda/conda-bld/git_cache\n",
      "Removing /opt/conda/conda-bld/hg_cache\n",
      "Removing /opt/conda/conda-bld/svn_cache\n"
     ]
    },
    {
     "name": "stdout",
     "output_type": "stream",
     "text": [
      " ---> 31855c326077\n",
      "Removing intermediate container a8416485bf62\n",
      "Step 7/10 : ENV PATH /opt/conda/envs/$CONDA_ENV_NAME/bin:$PATH\n",
      " ---> Running in 0621bd8751c2\n",
      " ---> 08c4675d38b3\n",
      "Removing intermediate container 0621bd8751c2\n",
      "Step 8/10 : RUN /bin/bash -c source activate aml-sdk-conda-env && pip install azureml-sdk[notebooks]\n",
      " ---> Running in 89be5a11862c\n",
      "Collecting azureml-sdk[notebooks]\n",
      "  Downloading https://files.pythonhosted.org/packages/78/1a/a312e326fe491f01a2fa26220066e3e8f2a33fef779f165694b09b522b79/azureml_sdk-0.1.74-py3-none-any.whl\n",
      "Collecting azureml-pipeline==0.1.74.* (from azureml-sdk[notebooks])\n",
      "  Downloading https://files.pythonhosted.org/packages/d5/c8/f4ff3c32b3f6dc2291c5ab7f31a4c6a37098fcd46a315b6d08386d7cf891/azureml_pipeline-0.1.74-py3-none-any.whl\n",
      "Collecting azureml-core==0.1.74.* (from azureml-sdk[notebooks])\n",
      "  Downloading https://files.pythonhosted.org/packages/b4/e1/062c248f174389615422ad85c1fbd56b686c185743758fc5983957610bcf/azureml_core-0.1.74-py2.py3-none-any.whl (781kB)\n",
      "Collecting azureml-train==0.1.74.* (from azureml-sdk[notebooks])\n",
      "  Downloading https://files.pythonhosted.org/packages/6a/3a/442ca39f58c9ea60bd1463d95fd8f10a3db5be77ca251ef7e9277a384cf3/azureml_train-0.1.74-py3-none-any.whl\n",
      "Collecting azureml-train-widgets==0.1.74.*; extra == \"notebooks\" (from azureml-sdk[notebooks])\n",
      "  Downloading https://files.pythonhosted.org/packages/5b/64/70f67d4efc7565d69d5c9e64f0724bd241164150dd8550060aedc5ea5de5/azureml_train_widgets-0.1.74-py3-none-any.whl (8.1MB)\n",
      "Collecting azureml-pipeline-core==0.1.74.* (from azureml-pipeline==0.1.74.*->azureml-sdk[notebooks])\n",
      "  Downloading https://files.pythonhosted.org/packages/5a/9c/49a81ef1e0c4cdf8e0913f6414ddaa8c49f40b27233340ac637ddf82673d/azureml_pipeline_core-0.1.74-py3-none-any.whl (109kB)\n",
      "Collecting azureml-pipeline-steps==0.1.74.* (from azureml-pipeline==0.1.74.*->azureml-sdk[notebooks])\n",
      "  Downloading https://files.pythonhosted.org/packages/7f/d9/610f39e47627e39920fda2e5e0428be3f5c7c334efaaf9fa6f1b46709d22/azureml_pipeline_steps-0.1.74-py3-none-any.whl\n",
      "Collecting azure-cli-profile>=2.0.26 (from azureml-core==0.1.74.*->azureml-sdk[notebooks])\n",
      "  Downloading https://files.pythonhosted.org/packages/c2/d3/fdc722a1b61857250a76027d6d73a50182c6d85132ddd65600a8993574ce/azure_cli_profile-2.1.2-py2.py3-none-any.whl\n",
      "Collecting azure-storage-blob>=1.1.0 (from azureml-core==0.1.74.*->azureml-sdk[notebooks])\n",
      "  Downloading https://files.pythonhosted.org/packages/dd/26/45de0cb737aeeeb2fa56cf12ab0042ba64dafd24bcc50bf8c8cdf913a1a6/azure_storage_blob-1.3.1-py2.py3-none-any.whl (77kB)\n",
      "Collecting azure-cli-core>=2.0.38 (from azureml-core==0.1.74.*->azureml-sdk[notebooks])\n",
      "  Downloading https://files.pythonhosted.org/packages/18/fa/4adcb8d2a7683ba972eb2b56d68f21cd0d5b43222c368c5ee6bc38cf2e4d/azure_cli_core-2.0.50-py2.py3-none-any.whl (107kB)\n",
      "Collecting azure-mgmt-keyvault>=0.40.0 (from azureml-core==0.1.74.*->azureml-sdk[notebooks])\n",
      "  Downloading https://files.pythonhosted.org/packages/49/de/0d69aedae7c5f6428314640b65947203ab80409c12b5d4e66fb5b7a4182e/azure_mgmt_keyvault-1.1.0-py2.py3-none-any.whl (111kB)\n",
      "Collecting ndg-httpsclient (from azureml-core==0.1.74.*->azureml-sdk[notebooks])\n",
      "  Downloading https://files.pythonhosted.org/packages/fb/67/c2f508c00ed2a6911541494504b7cac16fe0b0473912568df65fd1801132/ndg_httpsclient-0.5.1-py3-none-any.whl\n",
      "Collecting pathspec (from azureml-core==0.1.74.*->azureml-sdk[notebooks])\n",
      "  Downloading https://files.pythonhosted.org/packages/84/2a/bfee636b1e2f7d6e30dd74f49201ccfa5c3cf322d44929ecc6c137c486c5/pathspec-0.5.9.tar.gz\n",
      "Requirement already satisfied: six>=1.11.0 in /opt/conda/envs/aml-sdk-conda-env/lib/python3.6/site-packages (from azureml-core==0.1.74.*->azureml-sdk[notebooks]) (1.11.0)\n",
      "Collecting jsonpickle (from azureml-core==0.1.74.*->azureml-sdk[notebooks])\n",
      "  Downloading https://files.pythonhosted.org/packages/ca/ce/97404d5aeb58e6155c216825c81b50f6eca8a5345c582317ae48391878f8/jsonpickle-1.0-py2.py3-none-any.whl\n",
      "Collecting backports.tempfile (from azureml-core==0.1.74.*->azureml-sdk[notebooks])\n",
      "  Downloading https://files.pythonhosted.org/packages/b4/5c/077f910632476281428fe254807952eb47ca78e720d059a46178c541e669/backports.tempfile-1.0-py2.py3-none-any.whl\n",
      "Collecting SecretStorage<3.0.0 (from azureml-core==0.1.74.*->azureml-sdk[notebooks])\n",
      "  Downloading https://files.pythonhosted.org/packages/a5/a5/0830cfe34a4cfd0d1c3c8b614ede1edb2aaf999091ac8548dd19cb352e79/SecretStorage-2.3.1.tar.gz\n",
      "Collecting azure-mgmt-containerregistry>=2.0.0 (from azureml-core==0.1.74.*->azureml-sdk[notebooks])\n",
      "  Downloading https://files.pythonhosted.org/packages/35/d1/e8887811e8e5ab336e77db7cfb9f451bdae69a8ed97f53cc2cd11fdcac8f/azure_mgmt_containerregistry-2.4.0-py2.py3-none-any.whl (482kB)\n",
      "Collecting cryptography!=1.9,!=2.0.*,!=2.1.*,!=2.2.* (from azureml-core==0.1.74.*->azureml-sdk[notebooks])\n",
      "  Downloading https://files.pythonhosted.org/packages/59/32/92cade62c645756a83598edf56289e9b19aae5370642a7ce690cd06bc72f/cryptography-2.3.1-cp34-abi3-manylinux1_x86_64.whl (2.1MB)\n",
      "Requirement already satisfied: python-dateutil>=2.7.3 in /opt/conda/envs/aml-sdk-conda-env/lib/python3.6/site-packages (from azureml-core==0.1.74.*->azureml-sdk[notebooks]) (2.7.5)\n",
      "Collecting requests>=2.19.1 (from azureml-core==0.1.74.*->azureml-sdk[notebooks])\n",
      "  Downloading https://files.pythonhosted.org/packages/ff/17/5cbb026005115301a8fb2f9b0e3e8d32313142fe8b617070e7baad20554f/requests-2.20.1-py2.py3-none-any.whl (57kB)\n",
      "Collecting msrestazure>=0.4.33 (from azureml-core==0.1.74.*->azureml-sdk[notebooks])\n",
      "  Downloading https://files.pythonhosted.org/packages/62/6e/c41d6e2db39f4c6b819cea5b47c36c0fa0e7a931cd39b4c5f19713d28fd1/msrestazure-0.5.1-py2.py3-none-any.whl\n",
      "Collecting ruamel.yaml<=0.15.51,>=0.15.35 (from azureml-core==0.1.74.*->azureml-sdk[notebooks])\n",
      "  Downloading https://files.pythonhosted.org/packages/d2/7f/9bb3ba89ceab600c4a0ea75d638ea945215ca3458ac6528e0e39fa3254e4/ruamel.yaml-0.15.51-cp36-cp36m-manylinux1_x86_64.whl (640kB)\n",
      "Collecting docker (from azureml-core==0.1.74.*->azureml-sdk[notebooks])\n",
      "  Downloading https://files.pythonhosted.org/packages/c2/76/b8091dc6d9db038af62ae88f228da656a84632cf5d7a84dcf54c613d3fd0/docker-3.5.1-py2.py3-none-any.whl (126kB)\n",
      "Collecting urllib3<1.24,>=1.23 (from azureml-core==0.1.74.*->azureml-sdk[notebooks])\n",
      "  Downloading https://files.pythonhosted.org/packages/bd/c9/6fdd990019071a4a32a5e7cb78a1d92c53851ef4f56f62a3486e6a7d8ffb/urllib3-1.23-py2.py3-none-any.whl (133kB)\n",
      "Collecting PyJWT (from azureml-core==0.1.74.*->azureml-sdk[notebooks])\n",
      "  Downloading https://files.pythonhosted.org/packages/93/d1/3378cc8184a6524dc92993090ee8b4c03847c567e298305d6cf86987e005/PyJWT-1.6.4-py2.py3-none-any.whl\n",
      "Collecting msrest>=0.5.1 (from azureml-core==0.1.74.*->azureml-sdk[notebooks])\n",
      "  Downloading https://files.pythonhosted.org/packages/dc/8e/05c45ff0c0f293e8d044030a0007a16ece0d39dbc7fa6bb911a2f53b649a/msrest-0.6.1-py2.py3-none-any.whl (81kB)\n",
      "Collecting pytz (from azureml-core==0.1.74.*->azureml-sdk[notebooks])\n",
      "  Downloading https://files.pythonhosted.org/packages/f8/0e/2365ddc010afb3d79147f1dd544e5ee24bf4ece58ab99b16fbb465ce6dc0/pytz-2018.7-py2.py3-none-any.whl (506kB)\n",
      "Collecting azure-common>=1.1.12 (from azureml-core==0.1.74.*->azureml-sdk[notebooks])\n",
      "  Downloading https://files.pythonhosted.org/packages/ac/d3/055ce7ad06459a415ff9ca210e04c6cbb51bd6564815b7c8ac34bf5a1c39/azure_common-1.1.16-py2.py3-none-any.whl\n",
      "Collecting contextlib2 (from azureml-core==0.1.74.*->azureml-sdk[notebooks])\n",
      "  Downloading https://files.pythonhosted.org/packages/a2/71/8273a7eeed0aff6a854237ab5453bc9aa67deb49df4832801c21f0ff3782/contextlib2-0.5.5-py2.py3-none-any.whl\n",
      "Collecting azure-mgmt-storage>=1.5.0 (from azureml-core==0.1.74.*->azureml-sdk[notebooks])\n",
      "  Downloading https://files.pythonhosted.org/packages/d8/92/5411e055a0dc070527121480c3c7a941d3e1302b9866fe6db3af0bde9942/azure_mgmt_storage-3.0.0-py2.py3-none-any.whl (682kB)\n",
      "Collecting azure-graphrbac>=0.40.0 (from azureml-core==0.1.74.*->azureml-sdk[notebooks])\n",
      "  Downloading https://files.pythonhosted.org/packages/97/84/b4558e3f469c67497a2a5eaeb05321f91b1ee2d1205992a33f001d9c4bf9/azure_graphrbac-0.52.0-py2.py3-none-any.whl (108kB)\n",
      "Collecting azure-mgmt-resource>=1.2.1 (from azureml-core==0.1.74.*->azureml-sdk[notebooks])\n"
     ]
    },
    {
     "name": "stdout",
     "output_type": "stream",
     "text": [
      "  Downloading https://files.pythonhosted.org/packages/2b/26/c0cb69dfac2e5b7125db034045b8bcf937cf1e8d3df2009a87c33d0959f5/azure_mgmt_resource-2.0.0-py2.py3-none-any.whl (698kB)\n",
      "Collecting azure-mgmt-authorization>=0.40.0 (from azureml-core==0.1.74.*->azureml-sdk[notebooks])\n",
      "  Downloading https://files.pythonhosted.org/packages/6f/17/55b974603c16be89c7a7c16bac57b7bce48527bf1bebc3f116f7215176e6/azure_mgmt_authorization-0.50.0-py2.py3-none-any.whl (81kB)\n",
      "Collecting azure-storage-common>=1.1.0 (from azureml-core==0.1.74.*->azureml-sdk[notebooks])\n",
      "  Downloading https://files.pythonhosted.org/packages/7b/18/03872177864b7ce4aa0302eae5726e8cb66dbb4f30a3408ed27a6639407f/azure_storage_common-1.3.0-py2.py3-none-any.whl (48kB)\n",
      "Collecting azure-storage-nspkg>=3.0.0 (from azureml-core==0.1.74.*->azureml-sdk[notebooks])\n",
      "  Downloading https://files.pythonhosted.org/packages/b1/e9/0a11f4feefb9c4c2f7e30d4d448e15b32df3adabe370be70aaf4278fbb52/azure_storage_nspkg-3.0.0-py2.py3-none-any.whl\n",
      "Collecting azureml-train-core==0.1.74.* (from azureml-train==0.1.74.*->azureml-sdk[notebooks])\n",
      "  Downloading https://files.pythonhosted.org/packages/3c/6a/097c22b968f2b02e530a7cbd4e625148cdd19e84160383f7c8ffc9a3e501/azureml_train_core-0.1.74-py3-none-any.whl (63kB)\n",
      "Collecting ipywidgets>=7.0.0 (from azureml-train-widgets==0.1.74.*; extra == \"notebooks\"->azureml-sdk[notebooks])\n",
      "  Downloading https://files.pythonhosted.org/packages/30/9a/a008c7b1183fac9e52066d80a379b3c64eab535bd9d86cdc29a0b766fd82/ipywidgets-7.4.2-py2.py3-none-any.whl (111kB)\n",
      "Collecting azureml-telemetry==0.1.74.* (from azureml-train-widgets==0.1.74.*; extra == \"notebooks\"->azureml-sdk[notebooks])\n",
      "  Downloading https://files.pythonhosted.org/packages/f7/b4/35b593f672476842586c5d7980bcf257d970882f6504497faf281f7aebad/azureml_telemetry-0.1.74-py3-none-any.whl\n",
      "Requirement already satisfied: certifi in /opt/conda/envs/aml-sdk-conda-env/lib/python3.6/site-packages (from azureml-pipeline-steps==0.1.74.*->azureml-pipeline==0.1.74.*->azureml-sdk[notebooks]) (2018.10.15)\n",
      "Collecting azure-cli-command-modules-nspkg>=2.0.0 (from azure-cli-profile>=2.0.26->azureml-core==0.1.74.*->azureml-sdk[notebooks])\n",
      "  Downloading https://files.pythonhosted.org/packages/e6/c9/cdeeeabc550848e2a07caa66cba28aa057d23b6feaa824ceafd32c3f2226/azure_cli_command_modules_nspkg-2.0.2-py2.py3-none-any.whl\n",
      "Collecting jmespath (from azure-cli-core>=2.0.38->azureml-core==0.1.74.*->azureml-sdk[notebooks])\n",
      "  Downloading https://files.pythonhosted.org/packages/b7/31/05c8d001f7f87f0f07289a5fc0fc3832e9a57f2dbd4d3b0fee70e0d51365/jmespath-0.9.3-py2.py3-none-any.whl\n",
      "Collecting azure-cli-nspkg>=2.0.0 (from azure-cli-core>=2.0.38->azureml-core==0.1.74.*->azureml-sdk[notebooks])\n",
      "  Downloading https://files.pythonhosted.org/packages/a7/85/601ef6484bf7a722daa76a4383c4ccfd4980b74ed6c2895392f53ed210d5/azure_cli_nspkg-3.0.3-py2.py3-none-any.whl\n",
      "Collecting colorama>=0.3.9 (from azure-cli-core>=2.0.38->azureml-core==0.1.74.*->azureml-sdk[notebooks])\n",
      "  Downloading https://files.pythonhosted.org/packages/0a/93/6e8289231675d561d476d656c2ee3a868c1cca207e16c118d4503b25e2bf/colorama-0.4.0-py2.py3-none-any.whl\n",
      "Collecting humanfriendly>=4.7 (from azure-cli-core>=2.0.38->azureml-core==0.1.74.*->azureml-sdk[notebooks])\n",
      "  Downloading https://files.pythonhosted.org/packages/79/1e/13d96248e3fcaa7777b61fa889feab44865c85e524bbd667acfa0d8b66e3/humanfriendly-4.17-py2.py3-none-any.whl (72kB)\n",
      "Collecting azure-cli-telemetry (from azure-cli-core>=2.0.38->azureml-core==0.1.74.*->azureml-sdk[notebooks])\n",
      "  Downloading https://files.pythonhosted.org/packages/71/4c/da5ebe9300ecdc850031372f81229383c46a70e83dee8e77f58aa6fd0546/azure_cli_telemetry-1.0.0-py2.py3-none-any.whl\n",
      "Collecting pyyaml~=3.13 (from azure-cli-core>=2.0.38->azureml-core==0.1.74.*->azureml-sdk[notebooks])\n",
      "  Downloading https://files.pythonhosted.org/packages/9e/a3/1d13970c3f36777c583f136c136f804d70f500168edc1edea6daa7200769/PyYAML-3.13.tar.gz (270kB)\n",
      "Collecting paramiko>=2.0.8 (from azure-cli-core>=2.0.38->azureml-core==0.1.74.*->azureml-sdk[notebooks])\n",
      "  Downloading https://files.pythonhosted.org/packages/cf/ae/94e70d49044ccc234bfdba20114fa947d7ba6eb68a2e452d89b920e62227/paramiko-2.4.2-py2.py3-none-any.whl (193kB)\n",
      "Collecting knack==0.4.5 (from azure-cli-core>=2.0.38->azureml-core==0.1.74.*->azureml-sdk[notebooks])\n",
      "  Downloading https://files.pythonhosted.org/packages/02/89/1ea05831b95d6bdc8880acdd0304a915156eb5f94aeab0fd36649a940c45/knack-0.4.5-py2.py3-none-any.whl (49kB)\n",
      "Collecting antlr4-python3-runtime; python_version >= \"3.0\" (from azure-cli-core>=2.0.38->azureml-core==0.1.74.*->azureml-sdk[notebooks])\n",
      "  Downloading https://files.pythonhosted.org/packages/3e/96/aba01b2948ec67f237cd387c022820835ae0d8db5cab4bd404b351660b5e/antlr4-python3-runtime-4.7.1.tar.gz (111kB)\n",
      "Collecting tabulate<=0.8.2,>=0.7.7 (from azure-cli-core>=2.0.38->azureml-core==0.1.74.*->azureml-sdk[notebooks])\n",
      "  Downloading https://files.pythonhosted.org/packages/12/c2/11d6845db5edf1295bc08b2f488cf5937806586afe42936c3f34c097ebdc/tabulate-0.8.2.tar.gz (45kB)\n",
      "Collecting pyopenssl>=17.1.0 (from azure-cli-core>=2.0.38->azureml-core==0.1.74.*->azureml-sdk[notebooks])\n",
      "  Downloading https://files.pythonhosted.org/packages/96/af/9d29e6bd40823061aea2e0574ccb2fcf72bfd6130ce53d32773ec375458c/pyOpenSSL-18.0.0-py2.py3-none-any.whl (53kB)\n",
      "Requirement already satisfied: pygments in /opt/conda/envs/aml-sdk-conda-env/lib/python3.6/site-packages (from azure-cli-core>=2.0.38->azureml-core==0.1.74.*->azureml-sdk[notebooks]) (2.2.0)\n",
      "Collecting argcomplete>=1.8.0 (from azure-cli-core>=2.0.38->azureml-core==0.1.74.*->azureml-sdk[notebooks])\n",
      "  Downloading https://files.pythonhosted.org/packages/31/88/ba8d8684a8a27749250c66ff7c2b408fdbc29b50da61200338ff9b2607bf/argcomplete-1.9.4-py2.py3-none-any.whl\n",
      "Requirement already satisfied: pip in /opt/conda/envs/aml-sdk-conda-env/lib/python3.6/site-packages (from azure-cli-core>=2.0.38->azureml-core==0.1.74.*->azureml-sdk[notebooks]) (18.1)\n",
      "Collecting wheel==0.30.0 (from azure-cli-core>=2.0.38->azureml-core==0.1.74.*->azureml-sdk[notebooks])\n",
      "  Downloading https://files.pythonhosted.org/packages/0c/80/16a85b47702a1f47a63c104c91abdd0a6704ee8ae3b4ce4afc49bc39f9d9/wheel-0.30.0-py2.py3-none-any.whl (49kB)\n",
      "Collecting adal>=1.2.0 (from azure-cli-core>=2.0.38->azureml-core==0.1.74.*->azureml-sdk[notebooks])\n",
      "  Downloading https://files.pythonhosted.org/packages/2d/2f/14882b8dae0977e85577abde3065c141fb94dbb242adfb80e21797e4f7c9/adal-1.2.0-py2.py3-none-any.whl (52kB)\n",
      "Collecting azure-mgmt-nspkg>=2.0.0 (from azure-mgmt-keyvault>=0.40.0->azureml-core==0.1.74.*->azureml-sdk[notebooks])\n",
      "  Downloading https://files.pythonhosted.org/packages/b3/c2/af4b47845f27dc7d206ed4908b9e580f8bc94a4b2f3956a0d87c40719d90/azure_mgmt_nspkg-3.0.2-py3-none-any.whl\n",
      "Collecting pyasn1>=0.1.1 (from ndg-httpsclient->azureml-core==0.1.74.*->azureml-sdk[notebooks])\n",
      "  Downloading https://files.pythonhosted.org/packages/d1/a1/7790cc85db38daa874f6a2e6308131b9953feb1367f2ae2d1123bb93a9f5/pyasn1-0.4.4-py2.py3-none-any.whl (72kB)\n",
      "Collecting backports.weakref (from backports.tempfile->azureml-core==0.1.74.*->azureml-sdk[notebooks])\n",
      "  Downloading https://files.pythonhosted.org/packages/88/ec/f598b633c3d5ffe267aaada57d961c94fdfa183c5c3ebda2b6d151943db6/backports.weakref-1.0.post1-py2.py3-none-any.whl\n",
      "Collecting cffi!=1.11.3,>=1.7 (from cryptography!=1.9,!=2.0.*,!=2.1.*,!=2.2.*->azureml-core==0.1.74.*->azureml-sdk[notebooks])\n",
      "  Downloading https://files.pythonhosted.org/packages/6d/c0/47db8f624f3e4e2f3f27be03a93379d1ba16a1450a7b1aacfa0366e2c0dd/cffi-1.11.5-cp36-cp36m-manylinux1_x86_64.whl (421kB)\n",
      "Collecting asn1crypto>=0.21.0 (from cryptography!=1.9,!=2.0.*,!=2.1.*,!=2.2.*->azureml-core==0.1.74.*->azureml-sdk[notebooks])\n",
      "  Downloading https://files.pythonhosted.org/packages/ea/cd/35485615f45f30a510576f1a56d1e0a7ad7bd8ab5ed7cdc600ef7cd06222/asn1crypto-0.24.0-py2.py3-none-any.whl (101kB)\n",
      "Collecting idna>=2.1 (from cryptography!=1.9,!=2.0.*,!=2.1.*,!=2.2.*->azureml-core==0.1.74.*->azureml-sdk[notebooks])\n",
      "  Downloading https://files.pythonhosted.org/packages/4b/2a/0276479a4b3caeb8a8c1af2f8e4355746a97fab05a372e4a2c6a6b876165/idna-2.7-py2.py3-none-any.whl (58kB)\n",
      "Collecting chardet<3.1.0,>=3.0.2 (from requests>=2.19.1->azureml-core==0.1.74.*->azureml-sdk[notebooks])\n",
      "  Downloading https://files.pythonhosted.org/packages/bc/a9/01ffebfb562e4274b6487b4bb1ddec7ca55ec7510b22e4c51f14098443b8/chardet-3.0.4-py2.py3-none-any.whl (133kB)\n"
     ]
    },
    {
     "name": "stdout",
     "output_type": "stream",
     "text": [
      "Collecting docker-pycreds>=0.3.0 (from docker->azureml-core==0.1.74.*->azureml-sdk[notebooks])\n",
      "  Downloading https://files.pythonhosted.org/packages/ea/bf/7e70aeebc40407fbdb96fa9f79fc8e4722ea889a99378303e3bcc73f4ab5/docker_pycreds-0.3.0-py2.py3-none-any.whl\n",
      "Collecting websocket-client>=0.32.0 (from docker->azureml-core==0.1.74.*->azureml-sdk[notebooks])\n",
      "  Downloading https://files.pythonhosted.org/packages/26/2d/f749a5c82f6192d77ed061a38e02001afcba55fe8477336d26a950ab17ce/websocket_client-0.54.0-py2.py3-none-any.whl (200kB)\n",
      "Collecting isodate>=0.6.0 (from msrest>=0.5.1->azureml-core==0.1.74.*->azureml-sdk[notebooks])\n",
      "  Downloading https://files.pythonhosted.org/packages/9b/9f/b36f7774ff5ea8e428fdcfc4bb332c39ee5b9362ddd3d40d9516a55221b2/isodate-0.6.0-py2.py3-none-any.whl (45kB)\n",
      "Collecting requests-oauthlib>=0.5.0 (from msrest>=0.5.1->azureml-core==0.1.74.*->azureml-sdk[notebooks])\n",
      "  Downloading https://files.pythonhosted.org/packages/94/e7/c250d122992e1561690d9c0f7856dadb79d61fd4bdd0e598087dce607f6c/requests_oauthlib-1.0.0-py2.py3-none-any.whl\n",
      "Collecting azure-nspkg>=2.0.0 (from azure-storage-nspkg>=3.0.0->azureml-core==0.1.74.*->azureml-sdk[notebooks])\n",
      "  Downloading https://files.pythonhosted.org/packages/c4/0c/c562be95a9a2ed52454f598571cf300b1114d0db2aa27f5b8ed3bb9cd0c0/azure_nspkg-3.0.2-py3-none-any.whl\n",
      "Collecting azureml-train-restclients-hyperdrive==0.1.74.* (from azureml-train-core==0.1.74.*->azureml-train==0.1.74.*->azureml-sdk[notebooks])\n",
      "  Downloading https://files.pythonhosted.org/packages/07/fe/64e7590f4528f61469700559e72936e4c7f3ccb2dbbc8327ff9ab154ede0/azureml_train_restclients_hyperdrive-0.1.74-py3-none-any.whl\n",
      "Requirement already satisfied: ipython>=4.0.0; python_version >= \"3.3\" in /opt/conda/envs/aml-sdk-conda-env/lib/python3.6/site-packages (from ipywidgets>=7.0.0->azureml-train-widgets==0.1.74.*; extra == \"notebooks\"->azureml-sdk[notebooks]) (7.1.1)\n",
      "Requirement already satisfied: nbformat>=4.2.0 in /opt/conda/envs/aml-sdk-conda-env/lib/python3.6/site-packages (from ipywidgets>=7.0.0->azureml-train-widgets==0.1.74.*; extra == \"notebooks\"->azureml-sdk[notebooks]) (4.4.0)\n",
      "Requirement already satisfied: traitlets>=4.3.1 in /opt/conda/envs/aml-sdk-conda-env/lib/python3.6/site-packages (from ipywidgets>=7.0.0->azureml-train-widgets==0.1.74.*; extra == \"notebooks\"->azureml-sdk[notebooks]) (4.3.2)\n",
      "Requirement already satisfied: ipykernel>=4.5.1 in /opt/conda/envs/aml-sdk-conda-env/lib/python3.6/site-packages (from ipywidgets>=7.0.0->azureml-train-widgets==0.1.74.*; extra == \"notebooks\"->azureml-sdk[notebooks]) (5.1.0)\n",
      "Collecting widgetsnbextension~=3.4.0 (from ipywidgets>=7.0.0->azureml-train-widgets==0.1.74.*; extra == \"notebooks\"->azureml-sdk[notebooks])\n",
      "  Downloading https://files.pythonhosted.org/packages/8a/81/35789a3952afb48238289171728072d26d6e76649ddc8b3588657a2d78c1/widgetsnbextension-3.4.2-py2.py3-none-any.whl (2.2MB)\n",
      "Collecting applicationinsights (from azureml-telemetry==0.1.74.*->azureml-train-widgets==0.1.74.*; extra == \"notebooks\"->azureml-sdk[notebooks])\n",
      "  Downloading https://files.pythonhosted.org/packages/e3/c8/7848a0dd85158930b859eb8be1e38fc76a91f0a040d491723ebb356d7358/applicationinsights-0.11.7-py2.py3-none-any.whl (56kB)\n",
      "Collecting portalocker==1.2.1 (from azure-cli-telemetry->azure-cli-core>=2.0.38->azureml-core==0.1.74.*->azureml-sdk[notebooks])\n",
      "  Downloading https://files.pythonhosted.org/packages/57/41/05e79e5516db1cc0c967b3202388cde729f871c871b0a07bf24ff11adfcf/portalocker-1.2.1-py2.py3-none-any.whl\n",
      "Collecting pynacl>=1.0.1 (from paramiko>=2.0.8->azure-cli-core>=2.0.38->azureml-core==0.1.74.*->azureml-sdk[notebooks])\n",
      "  Downloading https://files.pythonhosted.org/packages/27/15/2cd0a203f318c2240b42cd9dd13c931ddd61067809fee3479f44f086103e/PyNaCl-1.3.0-cp34-abi3-manylinux1_x86_64.whl (759kB)\n",
      "Collecting bcrypt>=3.1.3 (from paramiko>=2.0.8->azure-cli-core>=2.0.38->azureml-core==0.1.74.*->azureml-sdk[notebooks])\n",
      "  Downloading https://files.pythonhosted.org/packages/b8/09/905ec939994e2c49dcffff72f823802557f166b3815ea54c1db3671eed42/bcrypt-3.1.4-cp36-cp36m-manylinux1_x86_64.whl (54kB)\n",
      "Collecting pycparser (from cffi!=1.11.3,>=1.7->cryptography!=1.9,!=2.0.*,!=2.1.*,!=2.2.*->azureml-core==0.1.74.*->azureml-sdk[notebooks])\n",
      "  Downloading https://files.pythonhosted.org/packages/68/9e/49196946aee219aead1290e00d1e7fdeab8567783e83e1b9ab5585e6206a/pycparser-2.19.tar.gz (158kB)\n",
      "Collecting oauthlib>=0.6.2 (from requests-oauthlib>=0.5.0->msrest>=0.5.1->azureml-core==0.1.74.*->azureml-sdk[notebooks])\n",
      "  Downloading https://files.pythonhosted.org/packages/e6/d1/ddd9cfea3e736399b97ded5c2dd62d1322adef4a72d816f1ed1049d6a179/oauthlib-2.1.0-py2.py3-none-any.whl (121kB)\n",
      "Requirement already satisfied: setuptools>=18.5 in /opt/conda/envs/aml-sdk-conda-env/lib/python3.6/site-packages (from ipython>=4.0.0; python_version >= \"3.3\"->ipywidgets>=7.0.0->azureml-train-widgets==0.1.74.*; extra == \"notebooks\"->azureml-sdk[notebooks]) (40.5.0)\n",
      "Requirement already satisfied: decorator in /opt/conda/envs/aml-sdk-conda-env/lib/python3.6/site-packages (from ipython>=4.0.0; python_version >= \"3.3\"->ipywidgets>=7.0.0->azureml-train-widgets==0.1.74.*; extra == \"notebooks\"->azureml-sdk[notebooks]) (4.3.0)\n",
      "Requirement already satisfied: prompt-toolkit<2.1.0,>=2.0.0 in /opt/conda/envs/aml-sdk-conda-env/lib/python3.6/site-packages (from ipython>=4.0.0; python_version >= \"3.3\"->ipywidgets>=7.0.0->azureml-train-widgets==0.1.74.*; extra == \"notebooks\"->azureml-sdk[notebooks]) (2.0.7)\n",
      "Requirement already satisfied: pexpect; sys_platform != \"win32\" in /opt/conda/envs/aml-sdk-conda-env/lib/python3.6/site-packages (from ipython>=4.0.0; python_version >= \"3.3\"->ipywidgets>=7.0.0->azureml-train-widgets==0.1.74.*; extra == \"notebooks\"->azureml-sdk[notebooks]) (4.6.0)\n",
      "Requirement already satisfied: jedi>=0.10 in /opt/conda/envs/aml-sdk-conda-env/lib/python3.6/site-packages (from ipython>=4.0.0; python_version >= \"3.3\"->ipywidgets>=7.0.0->azureml-train-widgets==0.1.74.*; extra == \"notebooks\"->azureml-sdk[notebooks]) (0.13.1)\n",
      "Requirement already satisfied: backcall in /opt/conda/envs/aml-sdk-conda-env/lib/python3.6/site-packages (from ipython>=4.0.0; python_version >= \"3.3\"->ipywidgets>=7.0.0->azureml-train-widgets==0.1.74.*; extra == \"notebooks\"->azureml-sdk[notebooks]) (0.1.0)\n",
      "Requirement already satisfied: pickleshare in /opt/conda/envs/aml-sdk-conda-env/lib/python3.6/site-packages (from ipython>=4.0.0; python_version >= \"3.3\"->ipywidgets>=7.0.0->azureml-train-widgets==0.1.74.*; extra == \"notebooks\"->azureml-sdk[notebooks]) (0.7.5)\n",
      "Requirement already satisfied: jsonschema!=2.5.0,>=2.4 in /opt/conda/envs/aml-sdk-conda-env/lib/python3.6/site-packages (from nbformat>=4.2.0->ipywidgets>=7.0.0->azureml-train-widgets==0.1.74.*; extra == \"notebooks\"->azureml-sdk[notebooks]) (2.6.0)\n",
      "Requirement already satisfied: jupyter-core in /opt/conda/envs/aml-sdk-conda-env/lib/python3.6/site-packages (from nbformat>=4.2.0->ipywidgets>=7.0.0->azureml-train-widgets==0.1.74.*; extra == \"notebooks\"->azureml-sdk[notebooks]) (4.4.0)\n",
      "Requirement already satisfied: ipython-genutils in /opt/conda/envs/aml-sdk-conda-env/lib/python3.6/site-packages (from nbformat>=4.2.0->ipywidgets>=7.0.0->azureml-train-widgets==0.1.74.*; extra == \"notebooks\"->azureml-sdk[notebooks]) (0.2.0)\n",
      "Requirement already satisfied: jupyter-client in /opt/conda/envs/aml-sdk-conda-env/lib/python3.6/site-packages (from ipykernel>=4.5.1->ipywidgets>=7.0.0->azureml-train-widgets==0.1.74.*; extra == \"notebooks\"->azureml-sdk[notebooks]) (5.2.3)\n",
      "Requirement already satisfied: tornado>=4.2 in /opt/conda/envs/aml-sdk-conda-env/lib/python3.6/site-packages (from ipykernel>=4.5.1->ipywidgets>=7.0.0->azureml-train-widgets==0.1.74.*; extra == \"notebooks\"->azureml-sdk[notebooks]) (5.1.1)\n",
      "Requirement already satisfied: notebook>=4.4.1 in /opt/conda/envs/aml-sdk-conda-env/lib/python3.6/site-packages (from widgetsnbextension~=3.4.0->ipywidgets>=7.0.0->azureml-train-widgets==0.1.74.*; extra == \"notebooks\"->azureml-sdk[notebooks]) (5.6.0)\n",
      "Requirement already satisfied: wcwidth in /opt/conda/envs/aml-sdk-conda-env/lib/python3.6/site-packages (from prompt-toolkit<2.1.0,>=2.0.0->ipython>=4.0.0; python_version >= \"3.3\"->ipywidgets>=7.0.0->azureml-train-widgets==0.1.74.*; extra == \"notebooks\"->azureml-sdk[notebooks]) (0.1.7)\n",
      "Requirement already satisfied: ptyprocess>=0.5 in /opt/conda/envs/aml-sdk-conda-env/lib/python3.6/site-packages (from pexpect; sys_platform != \"win32\"->ipython>=4.0.0; python_version >= \"3.3\"->ipywidgets>=7.0.0->azureml-train-widgets==0.1.74.*; extra == \"notebooks\"->azureml-sdk[notebooks]) (0.6.0)\n",
      "Requirement already satisfied: parso>=0.3.0 in /opt/conda/envs/aml-sdk-conda-env/lib/python3.6/site-packages (from jedi>=0.10->ipython>=4.0.0; python_version >= \"3.3\"->ipywidgets>=7.0.0->azureml-train-widgets==0.1.74.*; extra == \"notebooks\"->azureml-sdk[notebooks]) (0.3.1)\n",
      "Requirement already satisfied: pyzmq>=13 in /opt/conda/envs/aml-sdk-conda-env/lib/python3.6/site-packages (from jupyter-client->ipykernel>=4.5.1->ipywidgets>=7.0.0->azureml-train-widgets==0.1.74.*; extra == \"notebooks\"->azureml-sdk[notebooks]) (17.1.2)\n",
      "Requirement already satisfied: jinja2 in /opt/conda/envs/aml-sdk-conda-env/lib/python3.6/site-packages (from notebook>=4.4.1->widgetsnbextension~=3.4.0->ipywidgets>=7.0.0->azureml-train-widgets==0.1.74.*; extra == \"notebooks\"->azureml-sdk[notebooks]) (2.10)\n",
      "Requirement already satisfied: nbconvert in /opt/conda/envs/aml-sdk-conda-env/lib/python3.6/site-packages (from notebook>=4.4.1->widgetsnbextension~=3.4.0->ipywidgets>=7.0.0->azureml-train-widgets==0.1.74.*; extra == \"notebooks\"->azureml-sdk[notebooks]) (5.3.1)\n",
      "Requirement already satisfied: terminado>=0.8.1 in /opt/conda/envs/aml-sdk-conda-env/lib/python3.6/site-packages (from notebook>=4.4.1->widgetsnbextension~=3.4.0->ipywidgets>=7.0.0->azureml-train-widgets==0.1.74.*; extra == \"notebooks\"->azureml-sdk[notebooks]) (0.8.1)\n",
      "Requirement already satisfied: prometheus-client in /opt/conda/envs/aml-sdk-conda-env/lib/python3.6/site-packages (from notebook>=4.4.1->widgetsnbextension~=3.4.0->ipywidgets>=7.0.0->azureml-train-widgets==0.1.74.*; extra == \"notebooks\"->azureml-sdk[notebooks]) (0.4.2)\n",
      "Requirement already satisfied: Send2Trash in /opt/conda/envs/aml-sdk-conda-env/lib/python3.6/site-packages (from notebook>=4.4.1->widgetsnbextension~=3.4.0->ipywidgets>=7.0.0->azureml-train-widgets==0.1.74.*; extra == \"notebooks\"->azureml-sdk[notebooks]) (1.5.0)\n",
      "Requirement already satisfied: MarkupSafe>=0.23 in /opt/conda/envs/aml-sdk-conda-env/lib/python3.6/site-packages (from jinja2->notebook>=4.4.1->widgetsnbextension~=3.4.0->ipywidgets>=7.0.0->azureml-train-widgets==0.1.74.*; extra == \"notebooks\"->azureml-sdk[notebooks]) (1.0)\n",
      "Requirement already satisfied: entrypoints>=0.2.2 in /opt/conda/envs/aml-sdk-conda-env/lib/python3.6/site-packages (from nbconvert->notebook>=4.4.1->widgetsnbextension~=3.4.0->ipywidgets>=7.0.0->azureml-train-widgets==0.1.74.*; extra == \"notebooks\"->azureml-sdk[notebooks]) (0.2.3)\n",
      "Requirement already satisfied: pandocfilters>=1.4.1 in /opt/conda/envs/aml-sdk-conda-env/lib/python3.6/site-packages (from nbconvert->notebook>=4.4.1->widgetsnbextension~=3.4.0->ipywidgets>=7.0.0->azureml-train-widgets==0.1.74.*; extra == \"notebooks\"->azureml-sdk[notebooks]) (1.4.2)\n",
      "Requirement already satisfied: bleach in /opt/conda/envs/aml-sdk-conda-env/lib/python3.6/site-packages (from nbconvert->notebook>=4.4.1->widgetsnbextension~=3.4.0->ipywidgets>=7.0.0->azureml-train-widgets==0.1.74.*; extra == \"notebooks\"->azureml-sdk[notebooks]) (3.0.2)\n",
      "Requirement already satisfied: testpath in /opt/conda/envs/aml-sdk-conda-env/lib/python3.6/site-packages (from nbconvert->notebook>=4.4.1->widgetsnbextension~=3.4.0->ipywidgets>=7.0.0->azureml-train-widgets==0.1.74.*; extra == \"notebooks\"->azureml-sdk[notebooks]) (0.4.2)\n"
     ]
    },
    {
     "name": "stdout",
     "output_type": "stream",
     "text": [
      "Requirement already satisfied: mistune>=0.7.4 in /opt/conda/envs/aml-sdk-conda-env/lib/python3.6/site-packages (from nbconvert->notebook>=4.4.1->widgetsnbextension~=3.4.0->ipywidgets>=7.0.0->azureml-train-widgets==0.1.74.*; extra == \"notebooks\"->azureml-sdk[notebooks]) (0.8.4)\n",
      "Requirement already satisfied: webencodings in /opt/conda/envs/aml-sdk-conda-env/lib/python3.6/site-packages (from bleach->nbconvert->notebook>=4.4.1->widgetsnbextension~=3.4.0->ipywidgets>=7.0.0->azureml-train-widgets==0.1.74.*; extra == \"notebooks\"->azureml-sdk[notebooks]) (0.5.1)\n",
      "Building wheels for collected packages: pathspec, SecretStorage, pyyaml, antlr4-python3-runtime, tabulate, pycparser\n",
      "  Running setup.py bdist_wheel for pathspec: started\n",
      "  Running setup.py bdist_wheel for pathspec: finished with status 'done'\n",
      "  Stored in directory: /root/.cache/pip/wheels/45/cb/7e/ce6e6062c69446e39e328170524ca8213498bc66a74c6a210b\n",
      "  Running setup.py bdist_wheel for SecretStorage: started\n",
      "  Running setup.py bdist_wheel for SecretStorage: finished with status 'done'\n",
      "  Stored in directory: /root/.cache/pip/wheels/4e/5b/1b/be8c8a830a0243af85b2946a0aece2c6743d7f7f946977ed67\n",
      "  Running setup.py bdist_wheel for pyyaml: started\n",
      "  Running setup.py bdist_wheel for pyyaml: finished with status 'done'\n",
      "  Stored in directory: /root/.cache/pip/wheels/ad/da/0c/74eb680767247273e2cf2723482cb9c924fe70af57c334513f\n",
      "  Running setup.py bdist_wheel for antlr4-python3-runtime: started\n",
      "  Running setup.py bdist_wheel for antlr4-python3-runtime: finished with status 'done'\n",
      "  Stored in directory: /root/.cache/pip/wheels/ef/f6/18/ad300e691236a3408a99edc750484b56e8d6b11b2c38eacb10\n",
      "  Running setup.py bdist_wheel for tabulate: started\n",
      "  Running setup.py bdist_wheel for tabulate: finished with status 'done'\n",
      "  Stored in directory: /root/.cache/pip/wheels/2a/85/33/2f6da85d5f10614cbe5a625eab3b3aebfdf43e7b857f25f829\n",
      "  Running setup.py bdist_wheel for pycparser: started\n",
      "  Running setup.py bdist_wheel for pycparser: finished with status 'done'\n",
      "  Stored in directory: /root/.cache/pip/wheels/f2/9a/90/de94f8556265ddc9d9c8b271b0f63e57b26fb1d67a45564511\n",
      "Successfully built pathspec SecretStorage pyyaml antlr4-python3-runtime tabulate pycparser\n",
      "Installing collected packages: jmespath, chardet, urllib3, idna, requests, isodate, oauthlib, requests-oauthlib, msrest, pycparser, cffi, asn1crypto, cryptography, PyJWT, adal, msrestazure, azure-nspkg, azure-cli-nspkg, colorama, humanfriendly, portalocker, applicationinsights, azure-cli-telemetry, azure-common, azure-mgmt-nspkg, azure-mgmt-resource, pyyaml, pynacl, pyasn1, bcrypt, paramiko, argcomplete, tabulate, knack, antlr4-python3-runtime, pyopenssl, wheel, azure-cli-core, azure-cli-command-modules-nspkg, azure-cli-profile, azure-storage-nspkg, azure-storage-common, azure-storage-blob, azure-mgmt-keyvault, ndg-httpsclient, pathspec, jsonpickle, backports.weakref, backports.tempfile, SecretStorage, azure-mgmt-containerregistry, ruamel.yaml, docker-pycreds, websocket-client, docker, pytz, contextlib2, azure-mgmt-storage, azure-graphrbac, azure-mgmt-authorization, azureml-core, azureml-pipeline-core, azureml-telemetry, azureml-train-restclients-hyperdrive, azureml-train-core, azureml-pipeline-steps, azureml-pipeline, azureml-train, widgetsnbextension, ipywidgets, azureml-train-widgets, azureml-sdk\n",
      "  Found existing installation: wheel 0.32.2\n",
      "    Uninstalling wheel-0.32.2:\n",
      "      Successfully uninstalled wheel-0.32.2\n",
      "Successfully installed PyJWT-1.6.4 SecretStorage-2.3.1 adal-1.2.0 antlr4-python3-runtime-4.7.1 applicationinsights-0.11.7 argcomplete-1.9.4 asn1crypto-0.24.0 azure-cli-command-modules-nspkg-2.0.2 azure-cli-core-2.0.50 azure-cli-nspkg-3.0.3 azure-cli-profile-2.1.2 azure-cli-telemetry-1.0.0 azure-common-1.1.16 azure-graphrbac-0.52.0 azure-mgmt-authorization-0.50.0 azure-mgmt-containerregistry-2.4.0 azure-mgmt-keyvault-1.1.0 azure-mgmt-nspkg-3.0.2 azure-mgmt-resource-2.0.0 azure-mgmt-storage-3.0.0 azure-nspkg-3.0.2 azure-storage-blob-1.3.1 azure-storage-common-1.3.0 azure-storage-nspkg-3.0.0 azureml-core-0.1.74 azureml-pipeline-0.1.74 azureml-pipeline-core-0.1.74 azureml-pipeline-steps-0.1.74 azureml-sdk-0.1.74 azureml-telemetry-0.1.74 azureml-train-0.1.74 azureml-train-core-0.1.74 azureml-train-restclients-hyperdrive-0.1.74 azureml-train-widgets-0.1.74 backports.tempfile-1.0 backports.weakref-1.0.post1 bcrypt-3.1.4 cffi-1.11.5 chardet-3.0.4 colorama-0.4.0 contextlib2-0.5.5 cryptography-2.3.1 docker-3.5.1 docker-pycreds-0.3.0 humanfriendly-4.17 idna-2.7 ipywidgets-7.4.2 isodate-0.6.0 jmespath-0.9.3 jsonpickle-1.0 knack-0.4.5 msrest-0.6.1 msrestazure-0.5.1 ndg-httpsclient-0.5.1 oauthlib-2.1.0 paramiko-2.4.2 pathspec-0.5.9 portalocker-1.2.1 pyasn1-0.4.4 pycparser-2.19 pynacl-1.3.0 pyopenssl-18.0.0 pytz-2018.7 pyyaml-3.13 requests-2.20.1 requests-oauthlib-1.0.0 ruamel.yaml-0.15.51 tabulate-0.8.2 urllib3-1.23 websocket-client-0.54.0 wheel-0.30.0 widgetsnbextension-3.4.2\n",
      " ---> f40deac42ff7\n",
      "Removing intermediate container 89be5a11862c\n",
      "Step 9/10 : RUN /bin/bash -c source activate aml-sdk-conda-env &&                         jupyter nbextension install --py --user azureml.train.widgets  &&                         jupyter nbextension enable --py --user azureml.train.widgets\n",
      " ---> Running in b6ddef99816b\n",
      "\u001b[91mInstalling /opt/conda/envs/aml-sdk-conda-env/lib/python3.6/site-packages/azureml/train/widgets/static -> azureml_train_widgets\n",
      "\u001b[0m\u001b[91mMaking directory: /root/.local/share/jupyter/nbextensions/azureml_train_widgets/\n",
      "\u001b[0m\u001b[91mCopying: /opt/conda/envs/aml-sdk-conda-env/lib/python3.6/site-packages/azureml/train/widgets/static/index.js -> /root/.local/share/jupyter/nbextensions/azureml_train_widgets/index.js\n",
      "\u001b[0m\u001b[91mCopying: /opt/conda/envs/aml-sdk-conda-env/lib/python3.6/site-packages/azureml/train/widgets/static/extension.js -> /root/.local/share/jupyter/nbextensions/azureml_train_widgets/extension.js\n",
      "\u001b[0m\u001b[91mMaking directory: /root/.local/share/jupyter/nbextensions/azureml_train_widgets/packages\n",
      "\u001b[0m\u001b[91mMaking directory: /root/.local/share/jupyter/nbextensions/azureml_train_widgets/packages/labextension\n",
      "\u001b[0m\u001b[91mCopying: /opt/conda/envs/aml-sdk-conda-env/lib/python3.6/site-packages/azureml/train/widgets/static/packages/labextension/azureml_train_widgets-1.0.0.tgz -> /root/.local/share/jupyter/nbextensions/azureml_train_widgets/packages/labextension/azureml_train_widgets-1.0.0.tgz\n",
      "\u001b[0m\u001b[91m- Validating: \u001b[32mOK\u001b[0m\n",
      "\u001b[0m\u001b[91m\n",
      "    To initialize this nbextension in the browser every time the notebook (or other app) loads:\n",
      "    \n",
      "          jupyter nbextension enable azureml.train.widgets --user --py\n",
      "    \n",
      "\u001b[0m\u001b[91mEnabling notebook extension azureml_train_widgets/extension...\n",
      "\u001b[0m\u001b[91m      - Validating: \u001b[32mOK\u001b[0m\n",
      "\u001b[0m ---> 3ebbb04fe792\n",
      "Removing intermediate container b6ddef99816b\n",
      "Step 10/10 : CMD /bin/bash -c source activate aml-sdk-conda-env\n",
      " ---> Running in 90f705c02890\n",
      " ---> 66dd5fd1c9db\n",
      "Removing intermediate container 90f705c02890\n",
      "Successfully built 66dd5fd1c9db\n",
      "Successfully tagged georgedockeraccount/aml-sdk_docker:1.0.0\n"
     ]
    }
   ],
   "source": [
    "!echo docker build -t $docker_image_name -f $docker_file_path $working_path --no-cache\n",
    "!docker build -t $docker_image_name -f $docker_file_path $working_path --no-cache"
   ]
  },
  {
   "cell_type": "code",
   "execution_count": 31,
   "metadata": {
    "nbpresent": {
     "id": "468b09b6-55a8-4b09-bbc9-f857e41a51e0"
    }
   },
   "outputs": [
    {
     "data": {
      "text/plain": [
       "'/datadrive01/prj/PowerAIWithDocker/amlsdk/docker_run_dir'"
      ]
     },
     "execution_count": 31,
     "metadata": {},
     "output_type": "execute_result"
    },
    {
     "name": "stdout",
     "output_type": "stream",
     "text": [
      "total 0\r\n"
     ]
    }
   ],
   "source": [
    "local_dir = !pwd\n",
    "crt_local_dir = os.path.join(*([local_dir.s, 'docker_run_dir']))\n",
    "crt_local_dir \n",
    "!mkdir -p $crt_local_dir\n",
    "!rm -rf $crt_local_dir/test_*\n",
    "!ls -l $crt_local_dir\n",
    "# ! chmod -R ugo=rwx $crt_local_dir"
   ]
  },
  {
   "cell_type": "code",
   "execution_count": 32,
   "metadata": {
    "collapsed": true
   },
   "outputs": [],
   "source": [
    "!mkdir -p ./docker_history\n",
    "!cp $docker_file_path ./docker_history/"
   ]
  },
  {
   "cell_type": "markdown",
   "metadata": {},
   "source": [
    "#### Push image to ([dockerhub](https://hub.docker.com/)) registry (optional step)"
   ]
  },
  {
   "cell_type": "code",
   "execution_count": 33,
   "metadata": {},
   "outputs": [
    {
     "name": "stdout",
     "output_type": "stream",
     "text": [
      "The push refers to a repository [docker.io/georgedockeraccount/aml-sdk_docker]\n",
      "\n",
      "\u001b[1Be851ab05: Preparing \n",
      "\u001b[1B1de24eea: Preparing \n",
      "\u001b[1Bc1409887: Preparing \n",
      "\u001b[1B695d5fd2: Preparing \n",
      "\u001b[1B446024f0: Preparing \n",
      "\u001b[1Bb5c98f73: Preparing \n",
      "\u001b[1B31f7d329: Preparing \n",
      "\u001b[1Bcc4bbc9d: Preparing \n",
      "\u001b[1Bae060f2d: Preparing \n",
      "\u001b[8Bc1409887: Pushed   1.287GB/1.249GB\u001b[8A\u001b[1K\u001b[K\u001b[6A\u001b[1K\u001b[K\u001b[10A\u001b[1K\u001b[K\u001b[6A\u001b[1K\u001b[K\u001b[10A\u001b[1K\u001b[K\u001b[10A\u001b[1K\u001b[K\u001b[8A\u001b[1K\u001b[K\u001b[10A\u001b[1K\u001b[K\u001b[8A\u001b[1K\u001b[K\u001b[6A\u001b[1K\u001b[K\u001b[8A\u001b[1K\u001b[K\u001b[6A\u001b[1K\u001b[K\u001b[8A\u001b[1K\u001b[K\u001b[9A\u001b[1K\u001b[K\u001b[8A\u001b[1K\u001b[K\u001b[9A\u001b[1K\u001b[K\u001b[8A\u001b[1K\u001b[K\u001b[9A\u001b[1K\u001b[K\u001b[6A\u001b[1K\u001b[K\u001b[7A\u001b[1K\u001b[K\u001b[6A\u001b[1K\u001b[K\u001b[9A\u001b[1K\u001b[K\u001b[6A\u001b[1K\u001b[K\u001b[8A\u001b[1K\u001b[K\u001b[6A\u001b[1K\u001b[K\u001b[8A\u001b[1K\u001b[K\u001b[9A\u001b[1K\u001b[K\u001b[6A\u001b[1K\u001b[K\u001b[9A\u001b[1K\u001b[K\u001b[6A\u001b[1K\u001b[K\u001b[3A\u001b[1K\u001b[K\u001b[6A\u001b[1K\u001b[K\u001b[8A\u001b[1K\u001b[K\u001b[9A\u001b[1K\u001b[K\u001b[8A\u001b[1K\u001b[K\u001b[6A\u001b[1K\u001b[K\u001b[8A\u001b[1K\u001b[K\u001b[9A\u001b[1K\u001b[K\u001b[8A\u001b[1K\u001b[K\u001b[9A\u001b[1K\u001b[K\u001b[8A\u001b[1K\u001b[K\u001b[9A\u001b[1K\u001b[K\u001b[8A\u001b[1K\u001b[K\u001b[9A\u001b[1K\u001b[K\u001b[8A\u001b[1K\u001b[K\u001b[9A\u001b[1K\u001b[K\u001b[9A\u001b[1K\u001b[K\u001b[9A\u001b[1K\u001b[K\u001b[8A\u001b[1K\u001b[K\u001b[9A\u001b[1K\u001b[K\u001b[8A\u001b[1K\u001b[K\u001b[9A\u001b[1K\u001b[K\u001b[8A\u001b[1K\u001b[K\u001b[8A\u001b[1K\u001b[K\u001b[8A\u001b[1K\u001b[K\u001b[9A\u001b[1K\u001b[K\u001b[8A\u001b[1K\u001b[K\u001b[9A\u001b[1K\u001b[K\u001b[8A\u001b[1K\u001b[K\u001b[9A\u001b[1K\u001b[K\u001b[8A\u001b[1K\u001b[K\u001b[9A\u001b[1K\u001b[K\u001b[8A\u001b[1K\u001b[K\u001b[9A\u001b[1K\u001b[K\u001b[8A\u001b[1K\u001b[K\u001b[9A\u001b[1K\u001b[K\u001b[8A\u001b[1K\u001b[K\u001b[9A\u001b[1K\u001b[K\u001b[8A\u001b[1K\u001b[K\u001b[9A\u001b[1K\u001b[K\u001b[8A\u001b[1K\u001b[K\u001b[9A\u001b[1K\u001b[K\u001b[8A\u001b[1K\u001b[K\u001b[9A\u001b[1K\u001b[K\u001b[8A\u001b[1K\u001b[K\u001b[8A\u001b[1K\u001b[K\u001b[8A\u001b[1K\u001b[K\u001b[9A\u001b[1K\u001b[K\u001b[8A\u001b[1K\u001b[K\u001b[9A\u001b[1K\u001b[K\u001b[8A\u001b[1K\u001b[K\u001b[9A\u001b[1K\u001b[K\u001b[8A\u001b[1K\u001b[K\u001b[8A\u001b[1K\u001b[K\u001b[8A\u001b[1K\u001b[K\u001b[8A\u001b[1K\u001b[K\u001b[8A\u001b[1K\u001b[K\u001b[8A\u001b[1K\u001b[K\u001b[8A\u001b[1K\u001b[K\u001b[8A\u001b[1K\u001b[K\u001b[8A\u001b[1K\u001b[K\u001b[8A\u001b[1K\u001b[K\u001b[8A\u001b[1K\u001b[K\u001b[8A\u001b[1K\u001b[K\u001b[8A\u001b[1K\u001b[K\u001b[8A\u001b[1K\u001b[K\u001b[8A\u001b[1K\u001b[K\u001b[8A\u001b[1K\u001b[K\u001b[8A\u001b[1K\u001b[K\u001b[8A\u001b[1K\u001b[K\u001b[8A\u001b[1K\u001b[K\u001b[8A\u001b[1K\u001b[K\u001b[8A\u001b[1K\u001b[K\u001b[8A\u001b[1K\u001b[K\u001b[8A\u001b[1K\u001b[K\u001b[8A\u001b[1K\u001b[K\u001b[8A\u001b[1K\u001b[K\u001b[8A\u001b[1K\u001b[K\u001b[8A\u001b[1K\u001b[K\u001b[8A\u001b[1K\u001b[K\u001b[8A\u001b[1K\u001b[K\u001b[9A\u001b[1K\u001b[K\u001b[8A\u001b[1K\u001b[K\u001b[8A\u001b[1K\u001b[K\u001b[8A\u001b[1K\u001b[K\u001b[8A\u001b[1K\u001b[K\u001b[8A\u001b[1K\u001b[K\u001b[8A\u001b[1K\u001b[K\u001b[8A\u001b[1K\u001b[K\u001b[8A\u001b[1K\u001b[K\u001b[8A\u001b[1K\u001b[K\u001b[8A\u001b[1K\u001b[K\u001b[8A\u001b[1K\u001b[K\u001b[8A\u001b[1K\u001b[K\u001b[8A\u001b[1K\u001b[K\u001b[8A\u001b[1K\u001b[K\u001b[8A\u001b[1K\u001b[K\u001b[8A\u001b[1K\u001b[K\u001b[8A\u001b[1K\u001b[K\u001b[8A\u001b[1K\u001b[K\u001b[8A\u001b[1K\u001b[K\u001b[8A\u001b[1K\u001b[K\u001b[8A\u001b[1K\u001b[K\u001b[8A\u001b[1K\u001b[K\u001b[8A\u001b[1K\u001b[K\u001b[8A\u001b[1K\u001b[K\u001b[8A\u001b[1K\u001b[K\u001b[8A\u001b[1K\u001b[K\u001b[8A\u001b[1K\u001b[K\u001b[8A\u001b[1K\u001b[K\u001b[8A\u001b[1K\u001b[K\u001b[8A\u001b[1K\u001b[K\u001b[8A\u001b[1K\u001b[K\u001b[8A\u001b[1K\u001b[K\u001b[8A\u001b[1K\u001b[K\u001b[8A\u001b[1K\u001b[K\u001b[8A\u001b[1K\u001b[K\u001b[8A\u001b[1K\u001b[K\u001b[8A\u001b[1K\u001b[K\u001b[8A\u001b[1K\u001b[K\u001b[8A\u001b[1K\u001b[K\u001b[8A\u001b[1K\u001b[K\u001b[8A\u001b[1K\u001b[K\u001b[8A\u001b[1K\u001b[K\u001b[8A\u001b[1K\u001b[K\u001b[8A\u001b[1K\u001b[K\u001b[8A\u001b[1K\u001b[K\u001b[8A\u001b[1K\u001b[K\u001b[8A\u001b[1K\u001b[K\u001b[8A\u001b[1K\u001b[K\u001b[8A\u001b[1K\u001b[K\u001b[8A\u001b[1K\u001b[K\u001b[8A\u001b[1K\u001b[K\u001b[8A\u001b[1K\u001b[K\u001b[8A\u001b[1K\u001b[K\u001b[8A\u001b[1K\u001b[K\u001b[8A\u001b[1K\u001b[K\u001b[8A\u001b[1K\u001b[K\u001b[8A\u001b[1K\u001b[K\u001b[8A\u001b[1K\u001b[K\u001b[8A\u001b[1K\u001b[K\u001b[8A\u001b[1K\u001b[K\u001b[8A\u001b[1K\u001b[K\u001b[8A\u001b[1K\u001b[K\u001b[8A\u001b[1K\u001b[K\u001b[8A\u001b[1K\u001b[K\u001b[8A\u001b[1K\u001b[K\u001b[8A\u001b[1K\u001b[K\u001b[8A\u001b[1K\u001b[K\u001b[8A\u001b[1K\u001b[K\u001b[8A\u001b[1K\u001b[K\u001b[8A\u001b[1K\u001b[K\u001b[8A\u001b[1K\u001b[K\u001b[8A\u001b[1K\u001b[K\u001b[8A\u001b[1K\u001b[K\u001b[8A\u001b[1K\u001b[K\u001b[8A\u001b[1K\u001b[K\u001b[8A\u001b[1K\u001b[K\u001b[8A\u001b[1K\u001b[K\u001b[8A\u001b[1K\u001b[K\u001b[8A\u001b[1K\u001b[K\u001b[8A\u001b[1K\u001b[K\u001b[8A\u001b[1K\u001b[K\u001b[8A\u001b[1K\u001b[K\u001b[8A\u001b[1K\u001b[K\u001b[8A\u001b[1K\u001b[K\u001b[8A\u001b[1K\u001b[K\u001b[8A\u001b[1K\u001b[K\u001b[8A\u001b[1K\u001b[K\u001b[8A\u001b[1K\u001b[K\u001b[8A\u001b[1K\u001b[K\u001b[8A\u001b[1K\u001b[K\u001b[8A\u001b[1K\u001b[K\u001b[8A\u001b[1K\u001b[K\u001b[8A\u001b[1K\u001b[K\u001b[8A\u001b[1K\u001b[K\u001b[8A\u001b[1K\u001b[K\u001b[8A\u001b[1K\u001b[K\u001b[8A\u001b[1K\u001b[K\u001b[8A\u001b[1K\u001b[K\u001b[8A\u001b[1K\u001b[KPushing  448.1MB/1.249GB\u001b[8A\u001b[1K\u001b[K\u001b[8A\u001b[1K\u001b[K\u001b[8A\u001b[1K\u001b[K\u001b[8A\u001b[1K\u001b[K\u001b[8A\u001b[1K\u001b[K\u001b[8A\u001b[1K\u001b[K\u001b[8A\u001b[1K\u001b[K\u001b[8A\u001b[1K\u001b[K\u001b[8A\u001b[1K\u001b[K\u001b[8A\u001b[1K\u001b[K\u001b[8A\u001b[1K\u001b[K\u001b[8A\u001b[1K\u001b[K\u001b[8A\u001b[1K\u001b[K\u001b[8A\u001b[1K\u001b[K\u001b[8A\u001b[1K\u001b[K\u001b[8A\u001b[1K\u001b[K\u001b[8A\u001b[1K\u001b[K\u001b[8A\u001b[1K\u001b[K\u001b[8A\u001b[1K\u001b[K\u001b[8A\u001b[1K\u001b[K\u001b[8A\u001b[1K\u001b[K\u001b[8A\u001b[1K\u001b[K\u001b[8A\u001b[1K\u001b[K\u001b[8A\u001b[1K\u001b[K\u001b[8A\u001b[1K\u001b[K\u001b[8A\u001b[1K\u001b[K\u001b[8A\u001b[1K\u001b[K\u001b[8A\u001b[1K\u001b[K\u001b[8A\u001b[1K\u001b[K\u001b[8A\u001b[1K\u001b[K\u001b[8A\u001b[1K\u001b[K\u001b[8A\u001b[1K\u001b[K\u001b[8A\u001b[1K\u001b[K\u001b[8A\u001b[1K\u001b[K\u001b[8A\u001b[1K\u001b[K\u001b[8A\u001b[1K\u001b[K\u001b[8A\u001b[1K\u001b[K\u001b[8A\u001b[1K\u001b[K\u001b[8A\u001b[1K\u001b[K\u001b[8A\u001b[1K\u001b[K\u001b[8A\u001b[1K\u001b[K\u001b[8A\u001b[1K\u001b[K\u001b[8A\u001b[1K\u001b[K\u001b[8A\u001b[1K\u001b[K\u001b[8A\u001b[1K\u001b[K\u001b[8A\u001b[1K\u001b[K\u001b[8A\u001b[1K\u001b[K\u001b[8A\u001b[1K\u001b[K\u001b[8A\u001b[1K\u001b[K\u001b[8A\u001b[1K\u001b[K\u001b[8A\u001b[1K\u001b[K\u001b[8A\u001b[1K\u001b[K\u001b[8A\u001b[1K\u001b[K\u001b[8A\u001b[1K\u001b[K\u001b[8A\u001b[1K\u001b[K\u001b[8A\u001b[1K\u001b[K\u001b[8A\u001b[1K\u001b[K\u001b[8A\u001b[1K\u001b[K\u001b[8A\u001b[1K\u001b[K\u001b[8A\u001b[1K\u001b[K\u001b[8A\u001b[1K\u001b[K\u001b[8A\u001b[1K\u001b[K\u001b[8A\u001b[1K\u001b[K\u001b[8A\u001b[1K\u001b[K\u001b[8A\u001b[1K\u001b[K\u001b[8A\u001b[1K\u001b[K\u001b[8A\u001b[1K\u001b[K\u001b[8A\u001b[1K\u001b[K\u001b[8A\u001b[1K\u001b[K\u001b[8A\u001b[1K\u001b[K\u001b[8A\u001b[1K\u001b[K\u001b[8A\u001b[1K\u001b[K\u001b[8A\u001b[1K\u001b[K\u001b[8A\u001b[1K\u001b[K\u001b[8A\u001b[1K\u001b[K\u001b[8A\u001b[1K\u001b[K\u001b[8A\u001b[1K\u001b[K\u001b[8A\u001b[1K\u001b[K\u001b[8A\u001b[1K\u001b[K\u001b[8A\u001b[1K\u001b[K\u001b[8A\u001b[1K\u001b[K\u001b[8A\u001b[1K\u001b[K\u001b[8A\u001b[1K\u001b[K\u001b[8A\u001b[1K\u001b[K\u001b[8A\u001b[1K\u001b[K\u001b[8A\u001b[1K\u001b[K\u001b[8A\u001b[1K\u001b[K\u001b[8A\u001b[1K\u001b[K\u001b[8A\u001b[1K\u001b[K\u001b[8A\u001b[1K\u001b[K\u001b[8A\u001b[1K\u001b[K\u001b[8A\u001b[1K\u001b[K\u001b[8A\u001b[1K\u001b[K\u001b[8A\u001b[1K\u001b[K\u001b[8A\u001b[1K\u001b[K\u001b[8A\u001b[1K\u001b[K\u001b[8A\u001b[1K\u001b[K\u001b[8A\u001b[1K\u001b[K\u001b[8A\u001b[1K\u001b[K\u001b[8A\u001b[1K\u001b[K\u001b[8A\u001b[1K\u001b[K\u001b[8A\u001b[1K\u001b[K\u001b[8A\u001b[1K\u001b[K\u001b[8A\u001b[1K\u001b[K\u001b[8A\u001b[1K\u001b[K\u001b[8A\u001b[1K\u001b[K\u001b[8A\u001b[1K\u001b[K\u001b[8A\u001b[1K\u001b[K\u001b[8A\u001b[1K\u001b[K\u001b[8A\u001b[1K\u001b[K\u001b[8A\u001b[1K\u001b[K\u001b[8A\u001b[1K\u001b[K\u001b[8A\u001b[1K\u001b[K\u001b[8A\u001b[1K\u001b[K\u001b[8A\u001b[1K\u001b[K\u001b[8A\u001b[1K\u001b[K\u001b[8A\u001b[1K\u001b[K\u001b[8A\u001b[1K\u001b[K\u001b[8A\u001b[1K\u001b[K\u001b[8A\u001b[1K\u001b[K\u001b[8A\u001b[1K\u001b[K\u001b[8A\u001b[1K\u001b[K\u001b[8A\u001b[1K\u001b[K\u001b[8A\u001b[1K\u001b[K\u001b[8A\u001b[1K\u001b[K\u001b[8A\u001b[1K\u001b[K\u001b[8A\u001b[1K\u001b[K\u001b[8A\u001b[1K\u001b[K\u001b[8A\u001b[1K\u001b[K\u001b[8A\u001b[1K\u001b[K\u001b[8A\u001b[1K\u001b[K\u001b[8A\u001b[1K\u001b[K\u001b[8A\u001b[1K\u001b[K\u001b[8A\u001b[1K\u001b[K\u001b[8A\u001b[1K\u001b[K\u001b[8A\u001b[1K\u001b[K\u001b[8A\u001b[1K\u001b[K\u001b[8A\u001b[1K\u001b[K\u001b[8A\u001b[1K\u001b[K\u001b[8A\u001b[1K\u001b[K\u001b[8A\u001b[1K\u001b[K\u001b[8A\u001b[1K\u001b[K\u001b[8A\u001b[1K\u001b[K\u001b[8A\u001b[1K\u001b[K\u001b[8A\u001b[1K\u001b[K\u001b[8A\u001b[1K\u001b[K\u001b[8A\u001b[1K\u001b[K\u001b[8A\u001b[1K\u001b[K\u001b[8A\u001b[1K\u001b[K\u001b[8A\u001b[1K\u001b[K\u001b[8A\u001b[1K\u001b[K\u001b[8A\u001b[1K\u001b[K\u001b[8A\u001b[1K\u001b[K\u001b[8A\u001b[1K\u001b[K\u001b[8A\u001b[1K\u001b[K\u001b[8A\u001b[1K\u001b[K\u001b[8A\u001b[1K\u001b[K\u001b[8A\u001b[1K\u001b[K\u001b[8A\u001b[1K\u001b[K\u001b[8A\u001b[1K\u001b[K\u001b[8A\u001b[1K\u001b[K\u001b[8A\u001b[1K\u001b[K\u001b[8A\u001b[1K\u001b[K\u001b[8A\u001b[1K\u001b[K\u001b[8A\u001b[1K\u001b[K\u001b[8A\u001b[1K\u001b[K\u001b[8A\u001b[1K\u001b[K\u001b[8A\u001b[1K\u001b[K\u001b[8A\u001b[1K\u001b[K\u001b[8A\u001b[1K\u001b[K\u001b[8A\u001b[1K\u001b[K\u001b[8A\u001b[1K\u001b[K\u001b[8A\u001b[1K\u001b[K\u001b[8A\u001b[1K\u001b[K\u001b[8A\u001b[1K\u001b[K\u001b[8A\u001b[1K\u001b[K\u001b[8A\u001b[1K\u001b[K\u001b[8A\u001b[1K\u001b[K\u001b[8A\u001b[1K\u001b[K\u001b[8A\u001b[1K\u001b[K\u001b[8A\u001b[1K\u001b[K\u001b[8A\u001b[1K\u001b[K\u001b[8A\u001b[1K\u001b[K\u001b[8A\u001b[1K\u001b[K\u001b[8A\u001b[1K\u001b[K\u001b[8A\u001b[1K\u001b[K\u001b[8A\u001b[1K\u001b[K\u001b[8A\u001b[1K\u001b[K\u001b[8A\u001b[1K\u001b[K\u001b[8A\u001b[1K\u001b[K\u001b[8A\u001b[1K\u001b[K\u001b[8A\u001b[1K\u001b[K\u001b[8A\u001b[1K\u001b[K\u001b[8A\u001b[1K\u001b[K\u001b[8A\u001b[1K\u001b[K\u001b[8A\u001b[1K\u001b[K\u001b[8A\u001b[1K\u001b[K\u001b[8A\u001b[1K\u001b[K\u001b[8A\u001b[1K\u001b[K\u001b[8A\u001b[1K\u001b[K\u001b[8A\u001b[1K\u001b[K\u001b[8A\u001b[1K\u001b[K\u001b[8A\u001b[1K\u001b[K\u001b[8A\u001b[1K\u001b[K\u001b[8A\u001b[1K\u001b[K\u001b[8A\u001b[1K\u001b[K\u001b[8A\u001b[1K\u001b[K\u001b[8A\u001b[1K\u001b[K\u001b[8A\u001b[1K\u001b[K\u001b[8A\u001b[1K\u001b[K\u001b[8A\u001b[1K\u001b[K\u001b[8A\u001b[1K\u001b[K\u001b[8A\u001b[1K\u001b[K\u001b[8A\u001b[1K\u001b[K\u001b[8A\u001b[1K\u001b[K\u001b[8A\u001b[1K\u001b[K\u001b[8A\u001b[1K\u001b[K\u001b[8A\u001b[1K\u001b[K\u001b[8A\u001b[1K\u001b[K\u001b[8A\u001b[1K\u001b[K\u001b[8A\u001b[1K\u001b[K\u001b[8A\u001b[1K\u001b[K\u001b[8A\u001b[1K\u001b[K\u001b[8A\u001b[1K\u001b[K\u001b[8A\u001b[1K\u001b[K\u001b[8A\u001b[1K\u001b[K\u001b[8A\u001b[1K\u001b[K\u001b[8A\u001b[1K\u001b[K\u001b[8A\u001b[1K\u001b[K\u001b[8A\u001b[1K\u001b[K\u001b[8A\u001b[1K\u001b[K\u001b[8A\u001b[1K\u001b[K\u001b[8A\u001b[1K\u001b[K\u001b[8A\u001b[1K\u001b[K\u001b[8A\u001b[1K\u001b[K\u001b[8A\u001b[1K\u001b[K\u001b[8A\u001b[1K\u001b[K\u001b[8A\u001b[1K\u001b[K\u001b[8A\u001b[1K\u001b[K\u001b[8A\u001b[1K\u001b[K\u001b[8A\u001b[1K\u001b[K\u001b[8A\u001b[1K\u001b[K\u001b[8A\u001b[1K\u001b[K\u001b[8A\u001b[1K\u001b[K\u001b[8A\u001b[1K\u001b[K\u001b[8A\u001b[1K\u001b[K\u001b[8A\u001b[1K\u001b[K\u001b[8A\u001b[1K\u001b[K\u001b[8A\u001b[1K\u001b[K\u001b[8A\u001b[1K\u001b[K\u001b[8A\u001b[1K\u001b[K\u001b[8A\u001b[1K\u001b[K\u001b[8A\u001b[1K\u001b[K\u001b[8A\u001b[1K\u001b[K\u001b[8A\u001b[1K\u001b[K\u001b[8A\u001b[1K\u001b[K\u001b[8A\u001b[1K\u001b[K\u001b[8A\u001b[1K\u001b[K\u001b[8A\u001b[1K\u001b[K\u001b[8A\u001b[1K\u001b[K\u001b[8A\u001b[1K\u001b[K\u001b[8A\u001b[1K\u001b[K\u001b[8A\u001b[1K\u001b[K\u001b[8A\u001b[1K\u001b[K\u001b[8A\u001b[1K\u001b[K\u001b[8A\u001b[1K\u001b[K\u001b[8A\u001b[1K\u001b[K\u001b[8A\u001b[1K\u001b[K\u001b[8A\u001b[1K\u001b[K\u001b[8A\u001b[1K\u001b[K\u001b[8A\u001b[1K\u001b[K\u001b[8A\u001b[1K\u001b[K\u001b[8A\u001b[1K\u001b[K\u001b[8A\u001b[1K\u001b[K\u001b[8A\u001b[1K\u001b[K\u001b[8A\u001b[1K\u001b[K\u001b[8A\u001b[1K\u001b[K\u001b[8A\u001b[1K\u001b[K\u001b[8A\u001b[1K\u001b[K\u001b[8A\u001b[1K\u001b[K\u001b[8A\u001b[1K\u001b[K\u001b[8A\u001b[1K\u001b[K\u001b[8A\u001b[1K\u001b[K\u001b[8A\u001b[1K\u001b[K\u001b[8A\u001b[1K\u001b[K\u001b[8A\u001b[1K\u001b[K\u001b[8A\u001b[1K\u001b[K\u001b[8A\u001b[1K\u001b[K\u001b[8A\u001b[1K\u001b[K\u001b[8A\u001b[1K\u001b[K\u001b[8A\u001b[1K\u001b[K\u001b[8A\u001b[1K\u001b[K\u001b[8A\u001b[1K\u001b[K\u001b[8A\u001b[1K\u001b[K\u001b[8A\u001b[1K\u001b[K\u001b[8A\u001b[1K\u001b[K\u001b[8A\u001b[1K\u001b[K\u001b[8A\u001b[1K\u001b[K\u001b[8A\u001b[1K\u001b[K\u001b[8A\u001b[1K\u001b[K\u001b[8A\u001b[1K\u001b[K\u001b[8A\u001b[1K\u001b[K\u001b[8A\u001b[1K\u001b[K\u001b[8A\u001b[1K\u001b[K\u001b[8A\u001b[1K\u001b[K\u001b[8A\u001b[1K\u001b[K\u001b[8A\u001b[1K\u001b[K\u001b[8A\u001b[1K\u001b[K\u001b[8A\u001b[1K\u001b[K\u001b[8A\u001b[1K\u001b[K\u001b[8A\u001b[1K\u001b[K\u001b[8A\u001b[1K\u001b[K\u001b[8A\u001b[1K\u001b[K\u001b[8A\u001b[1K\u001b[K\u001b[8A\u001b[1K\u001b[K\u001b[8A\u001b[1K\u001b[K\u001b[8A\u001b[1K\u001b[K\u001b[8A\u001b[1K\u001b[K\u001b[8A\u001b[1K\u001b[K\u001b[8A\u001b[1K\u001b[K\u001b[8A\u001b[1K\u001b[K\u001b[8A\u001b[1K\u001b[K\u001b[8A\u001b[1K\u001b[K\u001b[8A\u001b[1K\u001b[K\u001b[8A\u001b[1K\u001b[K\u001b[8A\u001b[1K\u001b[K\u001b[8A\u001b[1K\u001b[K\u001b[8A\u001b[1K\u001b[K\u001b[8A\u001b[1K\u001b[K\u001b[8A\u001b[1K\u001b[K\u001b[8A\u001b[1K\u001b[K\u001b[8A\u001b[1K\u001b[K\u001b[8A\u001b[1K\u001b[K\u001b[8A\u001b[1K\u001b[K\u001b[8A\u001b[1K\u001b[K\u001b[8A\u001b[1K\u001b[K\u001b[8A\u001b[1K\u001b[K\u001b[8A\u001b[1K\u001b[K\u001b[8A\u001b[1K\u001b[K\u001b[8A\u001b[1K\u001b[K\u001b[8A\u001b[1K\u001b[K\u001b[8A\u001b[1K\u001b[K\u001b[8A\u001b[1K\u001b[K\u001b[8A\u001b[1K\u001b[K\u001b[8A\u001b[1K\u001b[K\u001b[8A\u001b[1K\u001b[K\u001b[8A\u001b[1K\u001b[K\u001b[8A\u001b[1K\u001b[K\u001b[8A\u001b[1K\u001b[K\u001b[8A\u001b[1K\u001b[K\u001b[8A\u001b[1K\u001b[K\u001b[8A\u001b[1K\u001b[K\u001b[8A\u001b[1K\u001b[K\u001b[8A\u001b[1K\u001b[K\u001b[8A\u001b[1K\u001b[K\u001b[8A\u001b[1K\u001b[K\u001b[8A\u001b[1K\u001b[K\u001b[8A\u001b[1K\u001b[K\u001b[8A\u001b[1K\u001b[K\u001b[8A\u001b[1K\u001b[K\u001b[8A\u001b[1K\u001b[K\u001b[8A\u001b[1K\u001b[K\u001b[8A\u001b[1K\u001b[K\u001b[8A\u001b[1K\u001b[K\u001b[8A\u001b[1K\u001b[K\u001b[8A\u001b[1K\u001b[K\u001b[8A\u001b[1K\u001b[K1.0.0: digest: sha256:e72dd7d4dda06847a7fc9510c03fe5b06216f6017ef5506078ffa860b8026771 size: 2424\n"
     ]
    }
   ],
   "source": [
    "!docker push $docker_image_name"
   ]
  },
  {
   "cell_type": "markdown",
   "metadata": {},
   "source": [
    "### To run aml SDK, ssh into a vm, run the command below and then go to: \n",
    "ghiordanxrgpuvm.eastus2.cloudapp.azure.com:9001/  \n",
    "  \n",
    "Make sure the host port (9001) is open in the VM.  "
   ]
  },
  {
   "cell_type": "code",
   "execution_count": 34,
   "metadata": {},
   "outputs": [
    {
     "name": "stdout",
     "output_type": "stream",
     "text": [
      "docker run -it -p 9001:8888 -v /datadrive01/prj/PowerAIWithDocker/amlsdk/../:/workspace:rw georgedockeraccount/aml-sdk_docker:1.0.0 /bin/bash -c \"source activate aml-sdk-conda-env && jupyter notebook --notebook-dir=/workspace --ip=* --port=8888 --no-browser --allow-root \"\r\n"
     ]
    }
   ],
   "source": [
    "!echo docker run -it -p 9001:8888 -v $(pwd)/../:/workspace:rw $docker_image_name /bin/bash -c '\"source activate aml-sdk-conda-env && jupyter notebook --notebook-dir=/workspace --ip='*' --port=8888 --no-browser --allow-root \"'"
   ]
  },
  {
   "cell_type": "markdown",
   "metadata": {},
   "source": [
    "### Run a short test\n",
    "Run ' import azureml.core; print(\"AML SDK version:\", azureml.core.VERSION) ' in a notebook"
   ]
  },
  {
   "cell_type": "code",
   "execution_count": 35,
   "metadata": {
    "collapsed": true
   },
   "outputs": [],
   "source": [
    "test_notebook_base_name = 'test_aml_sdk_docker_image'\n",
    "test_notebook_name = test_notebook_base_name+'.ipynb'"
   ]
  },
  {
   "cell_type": "code",
   "execution_count": 36,
   "metadata": {},
   "outputs": [
    {
     "name": "stdout",
     "output_type": "stream",
     "text": [
      "Writing /datadrive01/prj/PowerAIWithDocker/amlsdk/docker_run_dir/test_aml_sdk_docker_image.ipynb\n"
     ]
    }
   ],
   "source": [
    "%%writefile $crt_local_dir/$test_notebook_name\n",
    "\n",
    "{\n",
    " \"cells\": [\n",
    "  {\n",
    "   \"cell_type\": \"code\",\n",
    "   \"execution_count\": 3,\n",
    "   \"metadata\": {},\n",
    "   \"outputs\": [\n",
    "    {\n",
    "     \"name\": \"stdout\",\n",
    "     \"output_type\": \"stream\",\n",
    "     \"text\": [\n",
    "      \"AML SDK version: 0.1.68\\n\"\n",
    "     ]\n",
    "    }\n",
    "   ],\n",
    "   \"source\": [\n",
    "    \"# Check core SDK version number\\n\",\n",
    "    \"import azureml.core\\n\",\n",
    "    \"\\n\",\n",
    "    \"print(\\\"AML SDK version:\\\", azureml.core.VERSION)\"\n",
    "   ]\n",
    "  },\n",
    "  {\n",
    "   \"cell_type\": \"code\",\n",
    "   \"execution_count\": null,\n",
    "   \"metadata\": {},\n",
    "   \"outputs\": [],\n",
    "   \"source\": []\n",
    "  }\n",
    " ],\n",
    " \"metadata\": {\n",
    "  \"kernelspec\": {\n",
    "   \"display_name\": \"Python [conda env:aml-sdk-conda-env]\",\n",
    "   \"language\": \"python\",\n",
    "   \"name\": \"conda-env-aml-sdk-conda-env-py\"\n",
    "  },\n",
    "  \"language_info\": {\n",
    "   \"codemirror_mode\": {\n",
    "    \"name\": \"ipython\",\n",
    "    \"version\": 3\n",
    "   },\n",
    "   \"file_extension\": \".py\",\n",
    "   \"mimetype\": \"text/x-python\",\n",
    "   \"name\": \"python\",\n",
    "   \"nbconvert_exporter\": \"python\",\n",
    "   \"pygments_lexer\": \"ipython3\",\n",
    "   \"version\": \"3.6.6\"\n",
    "  }\n",
    " },\n",
    " \"nbformat\": 4,\n",
    " \"nbformat_minor\": 2\n",
    "}\n"
   ]
  },
  {
   "cell_type": "code",
   "execution_count": 37,
   "metadata": {},
   "outputs": [
    {
     "name": "stdout",
     "output_type": "stream",
     "text": [
      "total 4\r\n",
      "-rw-rw-r-- 1 loginvm0011 loginvm0011 982 Nov 10 01:02 test_aml_sdk_docker_image.ipynb\r\n"
     ]
    }
   ],
   "source": [
    "!ls -l $crt_local_dir"
   ]
  },
  {
   "cell_type": "markdown",
   "metadata": {},
   "source": [
    "### Quick testing SDK docker image (see cell response \"AML SDK version: <latest version>\").\n",
    "Compare the SDK version against latest AML SDK [relese notes](https://docs.microsoft.com/en-us/azure/machine-learning/service/azure-machine-learning-release-notes)"
   ]
  },
  {
   "cell_type": "code",
   "execution_count": 38,
   "metadata": {},
   "outputs": [
    {
     "name": "stdout",
     "output_type": "stream",
     "text": [
      "Available kernels:\n",
      "  python3    /opt/conda/envs/aml-sdk-conda-env/share/jupyter/kernels/python3\n",
      "[NbConvertApp] Converting notebook /workspace/test_aml_sdk_docker_image.ipynb to notebook\n",
      "[NbConvertApp] Executing notebook with kernel: python3\n",
      "[NbConvertApp] Writing 979 bytes to /workspace/test_aml_sdk_docker_image.nbconvert.ipynb\n"
     ]
    }
   ],
   "source": [
    "!docker run -v $crt_local_dir:/workspace:rw $docker_image_name /bin/bash -c \"source activate aml-sdk-conda-env && jupyter kernelspec list && jupyter nbconvert --ExecutePreprocessor.kernel_name=python3 --execute --to notebook  /workspace/test_aml_sdk_docker_image.ipynb\""
   ]
  },
  {
   "cell_type": "code",
   "execution_count": 39,
   "metadata": {},
   "outputs": [
    {
     "name": "stdout",
     "output_type": "stream",
     "text": [
      "{\r\n",
      " \"cells\": [\r\n",
      "  {\r\n",
      "   \"cell_type\": \"code\",\r\n",
      "   \"execution_count\": 1,\r\n",
      "   \"metadata\": {},\r\n",
      "   \"outputs\": [\r\n",
      "    {\r\n",
      "     \"name\": \"stdout\",\r\n",
      "     \"output_type\": \"stream\",\r\n",
      "     \"text\": [\r\n",
      "      \"AML SDK version: 0.1.74\\n\"\r\n",
      "     ]\r\n",
      "    }\r\n",
      "   ],\r\n",
      "   \"source\": [\r\n",
      "    \"# Check core SDK version number\\n\",\r\n",
      "    \"import azureml.core\\n\",\r\n",
      "    \"\\n\",\r\n",
      "    \"print(\\\"AML SDK version:\\\", azureml.core.VERSION)\"\r\n",
      "   ]\r\n",
      "  },\r\n",
      "  {\r\n",
      "   \"cell_type\": \"code\",\r\n",
      "   \"execution_count\": 2,\r\n",
      "   \"metadata\": {},\r\n",
      "   \"outputs\": [],\r\n",
      "   \"source\": []\r\n",
      "  }\r\n",
      " ],\r\n",
      " \"metadata\": {\r\n",
      "  \"kernelspec\": {\r\n",
      "   \"display_name\": \"Python [conda env:aml-sdk-conda-env]\",\r\n",
      "   \"language\": \"python\",\r\n",
      "   \"name\": \"conda-env-aml-sdk-conda-env-py\"\r\n",
      "  },\r\n",
      "  \"language_info\": {\r\n",
      "   \"codemirror_mode\": {\r\n",
      "    \"name\": \"ipython\",\r\n",
      "    \"version\": 3\r\n",
      "   },\r\n",
      "   \"file_extension\": \".py\",\r\n",
      "   \"mimetype\": \"text/x-python\",\r\n",
      "   \"name\": \"python\",\r\n",
      "   \"nbconvert_exporter\": \"python\",\r\n",
      "   \"pygments_lexer\": \"ipython3\",\r\n",
      "   \"version\": \"3.6.6\"\r\n",
      "  }\r\n",
      " },\r\n",
      " \"nbformat\": 4,\r\n",
      " \"nbformat_minor\": 2\r\n",
      "}\r\n"
     ]
    }
   ],
   "source": [
    "output_file = test_notebook_base_name+'.nbconvert.ipynb'\n",
    "!cat $crt_local_dir/$output_file"
   ]
  },
  {
   "cell_type": "code",
   "execution_count": 40,
   "metadata": {
    "nbpresent": {
     "id": "3cac05d2-2fbc-420e-90c3-823f734fe26e"
    }
   },
   "outputs": [
    {
     "name": "stdout",
     "output_type": "stream",
     "text": [
      "[NbConvertApp] Converting notebook createAMLSDKDocker.ipynb to html\n",
      "[NbConvertApp] Writing 326012 bytes to createAMLSDKDocker.html\n"
     ]
    }
   ],
   "source": [
    "!jupyter nbconvert --to html createAMLSDKDocker.ipynb"
   ]
  }
 ],
 "metadata": {
  "kernelspec": {
   "display_name": "Python [conda env:py35]",
   "language": "python",
   "name": "conda-env-py35-py"
  },
  "language_info": {
   "codemirror_mode": {
    "name": "ipython",
    "version": 3
   },
   "file_extension": ".py",
   "mimetype": "text/x-python",
   "name": "python",
   "nbconvert_exporter": "python",
   "pygments_lexer": "ipython3",
   "version": "3.5.2"
  }
 },
 "nbformat": 4,
 "nbformat_minor": 2
}
